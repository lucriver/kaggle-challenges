{
 "cells": [
  {
   "cell_type": "code",
   "execution_count": 1,
   "metadata": {
    "tags": []
   },
   "outputs": [
    {
     "name": "stderr",
     "output_type": "stream",
     "text": [
      "/home/lucas/Code/kaggle-challenges/venv/lib/python3.10/site-packages/tqdm/auto.py:21: TqdmWarning: IProgress not found. Please update jupyter and ipywidgets. See https://ipywidgets.readthedocs.io/en/stable/user_install.html\n",
      "  from .autonotebook import tqdm as notebook_tqdm\n"
     ]
    }
   ],
   "source": [
    "# Use GPU\n",
    "import os\n",
    "import requests\n",
    "import json\n",
    "\n",
    "import pandas as pd\n",
    "import numpy as np\n",
    "import torch\n",
    "import seaborn as sns\n",
    "import math\n",
    "\n",
    "from torch.utils.data import DataLoader, TensorDataset\n",
    "\n",
    "from transformers import BertTokenizer, BertForSequenceClassification, BertConfig\n",
    "from transformers import AutoTokenizer, Trainer, TrainingArguments\n",
    "from datasets import Dataset\n",
    "\n",
    "from tqdm.notebook import tqdm\n",
    "\n",
    "from IPython.display import display, clear_output\n",
    "\n",
    "from sklearn.feature_extraction.text import TfidfVectorizer, CountVectorizer\n",
    "from sklearn.model_selection import train_test_split, StratifiedKFold\n",
    "from sklearn.metrics import accuracy_score\n",
    "from sklearn.linear_model import LogisticRegression, RidgeClassifier\n",
    "from sklearn.ensemble import RandomForestClassifier\n",
    "from sklearn.preprocessing import OneHotEncoder\n",
    "from transformers import AutoTokenizer, AutoModelForTokenClassification\n",
    "from transformers import pipeline\n",
    "\n",
    "from scipy.sparse import hstack\n",
    "\n",
    "from matplotlib import pyplot as plt"
   ]
  },
  {
   "cell_type": "code",
   "execution_count": 2,
   "metadata": {
    "tags": []
   },
   "outputs": [],
   "source": [
    "os.environ['HSA_OVERRIDE_GFX_VERSION'] = '10.3.0'\n",
    "os.environ['CUDA_VISIBLE_DEVICES'] = '0'\n",
    "os.environ['HIP_VISIBLE_DEVICES'] = '0'"
   ]
  },
  {
   "cell_type": "code",
   "execution_count": 3,
   "metadata": {
    "tags": []
   },
   "outputs": [],
   "source": [
    "df_train = pd.read_csv('./data/original_dataset/train.csv')\n",
    "df_test = pd.read_csv('./data/original_dataset/test.csv')"
   ]
  },
  {
   "cell_type": "code",
   "execution_count": 4,
   "metadata": {
    "tags": []
   },
   "outputs": [
    {
     "name": "stdout",
     "output_type": "stream",
     "text": [
      "<class 'pandas.core.frame.DataFrame'>\n",
      "RangeIndex: 7613 entries, 0 to 7612\n",
      "Data columns (total 5 columns):\n",
      " #   Column    Non-Null Count  Dtype \n",
      "---  ------    --------------  ----- \n",
      " 0   id        7613 non-null   int64 \n",
      " 1   keyword   7552 non-null   object\n",
      " 2   location  5080 non-null   object\n",
      " 3   text      7613 non-null   object\n",
      " 4   target    7613 non-null   int64 \n",
      "dtypes: int64(2), object(3)\n",
      "memory usage: 297.5+ KB\n"
     ]
    },
    {
     "data": {
      "text/plain": [
       "None"
      ]
     },
     "metadata": {},
     "output_type": "display_data"
    },
    {
     "data": {
      "text/html": [
       "<div>\n",
       "<style scoped>\n",
       "    .dataframe tbody tr th:only-of-type {\n",
       "        vertical-align: middle;\n",
       "    }\n",
       "\n",
       "    .dataframe tbody tr th {\n",
       "        vertical-align: top;\n",
       "    }\n",
       "\n",
       "    .dataframe thead th {\n",
       "        text-align: right;\n",
       "    }\n",
       "</style>\n",
       "<table border=\"1\" class=\"dataframe\">\n",
       "  <thead>\n",
       "    <tr style=\"text-align: right;\">\n",
       "      <th></th>\n",
       "      <th>id</th>\n",
       "      <th>keyword</th>\n",
       "      <th>location</th>\n",
       "      <th>text</th>\n",
       "      <th>target</th>\n",
       "    </tr>\n",
       "  </thead>\n",
       "  <tbody>\n",
       "    <tr>\n",
       "      <th>0</th>\n",
       "      <td>1</td>\n",
       "      <td>NaN</td>\n",
       "      <td>NaN</td>\n",
       "      <td>Our Deeds are the Reason of this #earthquake M...</td>\n",
       "      <td>1</td>\n",
       "    </tr>\n",
       "    <tr>\n",
       "      <th>1</th>\n",
       "      <td>4</td>\n",
       "      <td>NaN</td>\n",
       "      <td>NaN</td>\n",
       "      <td>Forest fire near La Ronge Sask. Canada</td>\n",
       "      <td>1</td>\n",
       "    </tr>\n",
       "    <tr>\n",
       "      <th>2</th>\n",
       "      <td>5</td>\n",
       "      <td>NaN</td>\n",
       "      <td>NaN</td>\n",
       "      <td>All residents asked to 'shelter in place' are ...</td>\n",
       "      <td>1</td>\n",
       "    </tr>\n",
       "  </tbody>\n",
       "</table>\n",
       "</div>"
      ],
      "text/plain": [
       "   id keyword location                                               text  \\\n",
       "0   1     NaN      NaN  Our Deeds are the Reason of this #earthquake M...   \n",
       "1   4     NaN      NaN             Forest fire near La Ronge Sask. Canada   \n",
       "2   5     NaN      NaN  All residents asked to 'shelter in place' are ...   \n",
       "\n",
       "   target  \n",
       "0       1  \n",
       "1       1  \n",
       "2       1  "
      ]
     },
     "metadata": {},
     "output_type": "display_data"
    }
   ],
   "source": [
    "display(df_train.info())\n",
    "display(df_train.head(3))"
   ]
  },
  {
   "cell_type": "markdown",
   "metadata": {},
   "source": [
    "### Rename columns\n",
    "- Lets temporarily rename the columns to make interpretation a bit easier"
   ]
  },
  {
   "cell_type": "code",
   "execution_count": 5,
   "metadata": {
    "tags": []
   },
   "outputs": [],
   "source": [
    "df_train = df_train.rename(columns={'target': 'Disaster'})\n",
    "df_test = df_test.rename(columns={'target': 'Disaster'})\n",
    "\n",
    "df_train = df_train.rename(columns={'text': 'Tweet'})\n",
    "df_test = df_test.rename(columns={'text': 'Tweet'})\n",
    "\n",
    "df_train = df_train.rename(columns={'location': 'TweetLocation'})\n",
    "df_test = df_test.rename(columns={'location': 'TweetLocation'})\n",
    "\n",
    "df_train = df_train.rename(columns={'keyword': 'TweetKeywords'})\n",
    "df_test = df_test.rename(columns={'keyword': 'TweetKeywords'})"
   ]
  },
  {
   "cell_type": "code",
   "execution_count": 6,
   "metadata": {
    "tags": []
   },
   "outputs": [
    {
     "data": {
      "text/plain": [
       "'Missing values'"
      ]
     },
     "metadata": {},
     "output_type": "display_data"
    },
    {
     "data": {
      "text/plain": [
       "id                  0\n",
       "TweetKeywords      61\n",
       "TweetLocation    2533\n",
       "Tweet               0\n",
       "Disaster            0\n",
       "dtype: int64"
      ]
     },
     "metadata": {},
     "output_type": "display_data"
    }
   ],
   "source": [
    "display(\"Missing values\")\n",
    "display(df_train.isna().sum())"
   ]
  },
  {
   "cell_type": "markdown",
   "metadata": {},
   "source": [
    "**Observation:**\n",
    "- We can see that locations and keywords are not present for many obvious tweets. Lots of cleaning could fix this."
   ]
  },
  {
   "cell_type": "markdown",
   "metadata": {},
   "source": [
    "### Baseline-run\n",
    "- Before we try in-depth cleaning and processing, lets see what kind of performance we can get using the data alone"
   ]
  },
  {
   "cell_type": "code",
   "execution_count": 7,
   "metadata": {
    "tags": []
   },
   "outputs": [
    {
     "name": "stdout",
     "output_type": "stream",
     "text": [
      "Accuracy Score w/ all features: 0.8115561391989494\n",
      "Accuracy Score w/ just tweets: 0.8102429415627052\n"
     ]
    }
   ],
   "source": [
    "vectorizer = CountVectorizer()\n",
    "X_tweet = vectorizer.fit_transform(df_train['Tweet'])\n",
    "X_tweetkeywords = vectorizer.transform(df_train['TweetKeywords'].fillna(\"None\"))\n",
    "X_tweetlocation = vectorizer.transform(df_train['TweetLocation'].fillna(\"None\"))\n",
    "X = hstack([X_tweet, X_tweetkeywords, X_tweetlocation])\n",
    "y = df_train['Disaster']\n",
    "X_train, X_test, y_train, y_test = train_test_split(X, y, test_size=0.2, random_state=42)\n",
    "model = LogisticRegression(max_iter=1000)\n",
    "model.fit(X_train,y_train)\n",
    "print(f\"Accuracy Score w/ all features: {accuracy_score(model.predict(X_test),y_test)}\")\n",
    "\n",
    "vectorizer = CountVectorizer()\n",
    "X_tweet = vectorizer.fit_transform(df_train['Tweet'])\n",
    "X_tweetkeywords = vectorizer.transform(df_train['TweetKeywords'].fillna(\"None\"))\n",
    "X_tweetlocation = vectorizer.transform(df_train['TweetLocation'].fillna(\"None\"))\n",
    "X = hstack([X_tweet])\n",
    "y = df_train['Disaster']\n",
    "X_train, X_test, y_train, y_test = train_test_split(X, y, test_size=0.2, random_state=42)\n",
    "model = LogisticRegression(max_iter=1000)\n",
    "model.fit(X_train,y_train)\n",
    "print(f\"Accuracy Score w/ just tweets: {accuracy_score(model.predict(X_test),y_test)}\")"
   ]
  },
  {
   "cell_type": "markdown",
   "metadata": {},
   "source": [
    "We see with logistic regression, we get a baseline accuracy of ~81% without any cleaning and only using the tweet column or all features."
   ]
  },
  {
   "cell_type": "markdown",
   "metadata": {},
   "source": [
    "### Engineer basic features\n",
    "- Lets try to engineer some new features"
   ]
  },
  {
   "cell_type": "markdown",
   "metadata": {},
   "source": [
    "#### Create new feature 'ContainsMention'"
   ]
  },
  {
   "cell_type": "code",
   "execution_count": 8,
   "metadata": {
    "tags": []
   },
   "outputs": [],
   "source": [
    "df_train['ContainsMention'] = df_train['Tweet'].str.contains('@')\n",
    "df_test['ContainsMention'] = df_test['Tweet'].str.contains('@')"
   ]
  },
  {
   "cell_type": "code",
   "execution_count": 9,
   "metadata": {
    "tags": []
   },
   "outputs": [
    {
     "data": {
      "text/html": [
       "<div>\n",
       "<style scoped>\n",
       "    .dataframe tbody tr th:only-of-type {\n",
       "        vertical-align: middle;\n",
       "    }\n",
       "\n",
       "    .dataframe tbody tr th {\n",
       "        vertical-align: top;\n",
       "    }\n",
       "\n",
       "    .dataframe thead th {\n",
       "        text-align: right;\n",
       "    }\n",
       "</style>\n",
       "<table border=\"1\" class=\"dataframe\">\n",
       "  <thead>\n",
       "    <tr style=\"text-align: right;\">\n",
       "      <th></th>\n",
       "      <th>id</th>\n",
       "      <th>TweetKeywords</th>\n",
       "      <th>TweetLocation</th>\n",
       "      <th>Tweet</th>\n",
       "      <th>Disaster</th>\n",
       "      <th>ContainsMention</th>\n",
       "    </tr>\n",
       "  </thead>\n",
       "  <tbody>\n",
       "    <tr>\n",
       "      <th>6435</th>\n",
       "      <td>9208</td>\n",
       "      <td>suicide%20bombing</td>\n",
       "      <td>NaN</td>\n",
       "      <td>@JewhadiTM It is almost amazing to think someo...</td>\n",
       "      <td>1</td>\n",
       "      <td>True</td>\n",
       "    </tr>\n",
       "    <tr>\n",
       "      <th>1847</th>\n",
       "      <td>2657</td>\n",
       "      <td>crush</td>\n",
       "      <td>NaN</td>\n",
       "      <td>'@jorrynja: 6. @ your bf/gf/crush ??' @Ter_ell ??</td>\n",
       "      <td>1</td>\n",
       "      <td>True</td>\n",
       "    </tr>\n",
       "  </tbody>\n",
       "</table>\n",
       "</div>"
      ],
      "text/plain": [
       "        id      TweetKeywords TweetLocation  \\\n",
       "6435  9208  suicide%20bombing           NaN   \n",
       "1847  2657              crush           NaN   \n",
       "\n",
       "                                                  Tweet  Disaster  \\\n",
       "6435  @JewhadiTM It is almost amazing to think someo...         1   \n",
       "1847  '@jorrynja: 6. @ your bf/gf/crush ??' @Ter_ell ??         1   \n",
       "\n",
       "      ContainsMention  \n",
       "6435             True  \n",
       "1847             True  "
      ]
     },
     "execution_count": 9,
     "metadata": {},
     "output_type": "execute_result"
    }
   ],
   "source": [
    "df_train[df_train['ContainsMention'] == True].sample(2)"
   ]
  },
  {
   "cell_type": "code",
   "execution_count": 10,
   "metadata": {
    "tags": []
   },
   "outputs": [
    {
     "data": {
      "text/plain": [
       "<seaborn.axisgrid.FacetGrid at 0x72bca4af5570>"
      ]
     },
     "execution_count": 10,
     "metadata": {},
     "output_type": "execute_result"
    },
    {
     "data": {
      "image/png": "[encoded data removed]",
      "text/plain": [
       "<Figure size 627.861x500 with 1 Axes>"
      ]
     },
     "metadata": {},
     "output_type": "display_data"
    }
   ],
   "source": [
    "sns.catplot(hue='ContainsMention',y='Disaster',data=df_train,kind='bar')"
   ]
  },
  {
   "cell_type": "markdown",
   "metadata": {},
   "source": [
    "- We can see that tweets with mentions '@' are less likely to be related to a disaster."
   ]
  },
  {
   "cell_type": "markdown",
   "metadata": {},
   "source": [
    "#### Create new feature 'ContainsUrl'"
   ]
  },
  {
   "cell_type": "code",
   "execution_count": 11,
   "metadata": {
    "tags": []
   },
   "outputs": [],
   "source": [
    "df_train['ContainsUrl'] = df_train['Tweet'].str.contains(r'http|https|www\\.|t\\.co', regex=True)\n",
    "df_test['ContainsUrl'] = df_test['Tweet'].str.contains(r'http|https|www\\.|t\\.co', regex=True)"
   ]
  },
  {
   "cell_type": "code",
   "execution_count": 12,
   "metadata": {
    "tags": []
   },
   "outputs": [
    {
     "data": {
      "text/html": [
       "<div>\n",
       "<style scoped>\n",
       "    .dataframe tbody tr th:only-of-type {\n",
       "        vertical-align: middle;\n",
       "    }\n",
       "\n",
       "    .dataframe tbody tr th {\n",
       "        vertical-align: top;\n",
       "    }\n",
       "\n",
       "    .dataframe thead th {\n",
       "        text-align: right;\n",
       "    }\n",
       "</style>\n",
       "<table border=\"1\" class=\"dataframe\">\n",
       "  <thead>\n",
       "    <tr style=\"text-align: right;\">\n",
       "      <th></th>\n",
       "      <th>id</th>\n",
       "      <th>TweetKeywords</th>\n",
       "      <th>TweetLocation</th>\n",
       "      <th>Tweet</th>\n",
       "      <th>Disaster</th>\n",
       "      <th>ContainsMention</th>\n",
       "      <th>ContainsUrl</th>\n",
       "    </tr>\n",
       "  </thead>\n",
       "  <tbody>\n",
       "    <tr>\n",
       "      <th>6118</th>\n",
       "      <td>8734</td>\n",
       "      <td>sinking</td>\n",
       "      <td>Duval, WV 25573, USA ?</td>\n",
       "      <td>Do you feel like you are sinking in unhappines...</td>\n",
       "      <td>0</td>\n",
       "      <td>False</td>\n",
       "      <td>True</td>\n",
       "    </tr>\n",
       "    <tr>\n",
       "      <th>4051</th>\n",
       "      <td>5754</td>\n",
       "      <td>forest%20fires</td>\n",
       "      <td>San Francisco</td>\n",
       "      <td>The spread of Conflict #PalmOil has sparked an...</td>\n",
       "      <td>1</td>\n",
       "      <td>False</td>\n",
       "      <td>True</td>\n",
       "    </tr>\n",
       "  </tbody>\n",
       "</table>\n",
       "</div>"
      ],
      "text/plain": [
       "        id   TweetKeywords           TweetLocation  \\\n",
       "6118  8734         sinking  Duval, WV 25573, USA ?   \n",
       "4051  5754  forest%20fires           San Francisco   \n",
       "\n",
       "                                                  Tweet  Disaster  \\\n",
       "6118  Do you feel like you are sinking in unhappines...         0   \n",
       "4051  The spread of Conflict #PalmOil has sparked an...         1   \n",
       "\n",
       "      ContainsMention  ContainsUrl  \n",
       "6118            False         True  \n",
       "4051            False         True  "
      ]
     },
     "execution_count": 12,
     "metadata": {},
     "output_type": "execute_result"
    }
   ],
   "source": [
    "df_train[df_train['ContainsUrl'] == True].sample(2)"
   ]
  },
  {
   "cell_type": "code",
   "execution_count": 13,
   "metadata": {
    "tags": []
   },
   "outputs": [
    {
     "data": {
      "text/plain": [
       "<seaborn.axisgrid.FacetGrid at 0x72c031b531c0>"
      ]
     },
     "execution_count": 13,
     "metadata": {},
     "output_type": "execute_result"
    },
    {
     "data": {
      "image/png": "[encoded data removed]",
      "text/plain": [
       "<Figure size 591.736x500 with 1 Axes>"
      ]
     },
     "metadata": {},
     "output_type": "display_data"
    }
   ],
   "source": [
    "sns.catplot(hue='ContainsUrl',y='Disaster',data=df_train,kind='bar')"
   ]
  },
  {
   "cell_type": "markdown",
   "metadata": {},
   "source": [
    "- We can see presence of a URL is much more likely to be a disaster tweet."
   ]
  },
  {
   "cell_type": "code",
   "execution_count": 14,
   "metadata": {
    "tags": []
   },
   "outputs": [
    {
     "data": {
      "text/plain": [
       "id                    0\n",
       "TweetKeywords        61\n",
       "TweetLocation      2533\n",
       "Tweet                 0\n",
       "Disaster              0\n",
       "ContainsMention       0\n",
       "ContainsUrl           0\n",
       "dtype: int64"
      ]
     },
     "execution_count": 14,
     "metadata": {},
     "output_type": "execute_result"
    }
   ],
   "source": [
    "df_train.isna().sum()"
   ]
  },
  {
   "cell_type": "markdown",
   "metadata": {},
   "source": [
    "### Benchmark model again\n",
    "- Lets see how the model performs with the new engineered features"
   ]
  },
  {
   "cell_type": "code",
   "execution_count": 15,
   "metadata": {
    "tags": []
   },
   "outputs": [
    {
     "name": "stdout",
     "output_type": "stream",
     "text": [
      "Accuracy: 0.8122127380170716\n"
     ]
    }
   ],
   "source": [
    "vectorizer = CountVectorizer()\n",
    "\n",
    "X_tweet = vectorizer.fit_transform(df_train['Tweet'])\n",
    "X_keyword = vectorizer.transform(df_train['TweetKeywords'].fillna('None'))\n",
    "X_location = vectorizer.transform(df_train['TweetLocation'].fillna('None'))\n",
    "\n",
    "encoder = OneHotEncoder()\n",
    "X_onehot = encoder.fit_transform(df_train[['ContainsUrl', 'ContainsMention']])\n",
    "\n",
    "X = hstack([X_tweet, X_keyword, X_location, X_onehot])\n",
    "y = df_train['Disaster']\n",
    "\n",
    "X_train, X_test, y_train, y_test = train_test_split(X, y, test_size=0.2, random_state=42)\n",
    "\n",
    "# Train Model\n",
    "log_reg = LogisticRegression(max_iter=1000)\n",
    "log_reg.fit(X_train, y_train)\n",
    "\n",
    "# Predict and Evaluate\n",
    "y_pred = log_reg.predict(X_test)\n",
    "print(\"Accuracy:\", accuracy_score(y_test, y_pred))"
   ]
  },
  {
   "cell_type": "markdown",
   "metadata": {},
   "source": [
    "The performance is actually worse than before.\n",
    "\n",
    "(Not shown here, but I also attempted representing text data using word embeddings and contextual embeddings. The results were mostly the same, which indicates we are limited by our model here. We need a model that can better model the complexity of text data, so we will look to LLMs or NLP models here. Lets start with BERT.)"
   ]
  },
  {
   "cell_type": "markdown",
   "metadata": {},
   "source": [
    "#### Lets try training a model on just the URL and ContainsMention features alone."
   ]
  },
  {
   "cell_type": "code",
   "execution_count": 16,
   "metadata": {
    "tags": []
   },
   "outputs": [
    {
     "name": "stdout",
     "output_type": "stream",
     "text": [
      "Index(['ContainsMention_False', 'ContainsMention_True', 'ContainsUrl_False',\n",
      "       'ContainsUrl_True'],\n",
      "      dtype='object')\n",
      "Accuracy: 0.6349310571240971\n"
     ]
    }
   ],
   "source": [
    "X = pd.get_dummies(df_train[['ContainsMention', 'ContainsUrl']],columns=['ContainsMention', 'ContainsUrl'])\n",
    "y = df_train['Disaster']\n",
    "\n",
    "print(X.columns)\n",
    "\n",
    "X_train, X_test, y_train, y_test = train_test_split(X, y, test_size=0.2, random_state=42)\n",
    "\n",
    "# Train Model\n",
    "log_reg = RandomForestClassifier()\n",
    "log_reg.fit(X_train, y_train)\n",
    "\n",
    "# Predict and Evaluate\n",
    "y_pred = log_reg.predict(X_test)\n",
    "print(\"Accuracy:\", accuracy_score(y_test, y_pred))"
   ]
  },
  {
   "cell_type": "markdown",
   "metadata": {},
   "source": [
    "#### Just tweet location"
   ]
  },
  {
   "cell_type": "code",
   "execution_count": 17,
   "metadata": {
    "tags": []
   },
   "outputs": [
    {
     "name": "stdout",
     "output_type": "stream",
     "text": [
      "Accuracy: 0.5988181221273802\n"
     ]
    }
   ],
   "source": [
    "vectorizer = CountVectorizer()\n",
    "\n",
    "X_tweet_location = vectorizer.fit_transform(df_train['TweetLocation'].fillna(\"N/A\"))\n",
    "\n",
    "X = X_tweet_location\n",
    "y = df_train['Disaster']\n",
    "\n",
    "X_train, X_test, y_train, y_test = train_test_split(X, y, test_size=0.2, random_state=42)\n",
    "\n",
    "# Train Model\n",
    "log_reg = LogisticRegression(max_iter=1000)\n",
    "log_reg.fit(X_train, y_train)\n",
    "\n",
    "# Predict and Evaluate\n",
    "y_pred = log_reg.predict(X_test)\n",
    "print(\"Accuracy:\", accuracy_score(y_test, y_pred))"
   ]
  },
  {
   "cell_type": "markdown",
   "metadata": {},
   "source": [
    "### BERT\n",
    "- Lets try using a more complex model to help df_train['TweetLocation'].values.tolist()"
   ]
  },
  {
   "cell_type": "markdown",
   "metadata": {},
   "source": [
    "#### Only text feature"
   ]
  },
  {
   "cell_type": "code",
   "execution_count": 18,
   "metadata": {
    "tags": []
   },
   "outputs": [],
   "source": [
    "df_train_0 = df_train.copy()\n",
    "df_test_0 = df_test.copy()\n",
    "\n",
    "df_train_0 = df_train_0[['Tweet','Disaster']].rename(columns={'Tweet': 'text', 'Disaster': 'label'})\n",
    "df_test_0 = df_test_0[['Tweet']].rename(columns={'Tweet': 'text'})\n",
    "\n",
    "df_train_0.to_csv('./data/training_datasets/tweet/train.csv',index=False)\n",
    "df_test_0.to_csv('./data/training_datasets/tweet/test.csv',index=False)"
   ]
  },
  {
   "cell_type": "markdown",
   "metadata": {},
   "source": [
    "#### Include location in tweet"
   ]
  },
  {
   "cell_type": "code",
   "execution_count": 19,
   "metadata": {
    "tags": []
   },
   "outputs": [],
   "source": [
    "df_train_1 = df_train.copy()\n",
    "df_test_1 = df_test.copy()\n",
    "\n",
    "df_train_1['TweetLocation'] = df_train_1['TweetLocation'].fillna('N/A')\n",
    "df_test_1['TweetLocation'] = df_test_1['TweetLocation'].fillna('N/A')\n",
    "\n",
    "df_train_1['TweetWithLocation'] = df_train_1.apply(lambda row: f'Location: {row[\"TweetLocation\"]} Tweet: {row[\"Tweet\"]}', axis=1)\n",
    "df_test_1['TweetWithLocation'] = df_test_1.apply(lambda row: f'Location: {row[\"TweetLocation\"]} Tweet: {row[\"Tweet\"]}', axis=1)\n",
    "\n",
    "df_train_1 = df_train_1[['TweetWithLocation', 'Disaster']].rename(columns={'TweetWithLocation': 'text', 'Disaster': 'label'})\n",
    "df_test_1 = df_test_1[['TweetWithLocation']].rename(columns={'TweetWithLocation': 'text'})\n",
    "\n",
    "df_train_1.to_csv('./data/training_datasets/tweet+location/train.csv',index=False)\n",
    "df_test_1.to_csv('./data/training_datasets/tweet+location/test.csv',index=False)"
   ]
  },
  {
   "cell_type": "markdown",
   "metadata": {},
   "source": [
    "# (See script.py for training code)"
   ]
  },
  {
   "cell_type": "code",
   "execution_count": 20,
   "metadata": {
    "tags": []
   },
   "outputs": [
    {
     "name": "stderr",
     "output_type": "stream",
     "text": [
      "/home/lucas/Code/kaggle-challenges/venv/lib/python3.10/site-packages/huggingface_hub/file_download.py:1132: FutureWarning: `resume_download` is deprecated and will be removed in version 1.0.0. Downloads always resume when possible. If you want to force a new download, use `force_download=True`.\n",
      "  warnings.warn(\n",
      "Some weights of BertForSequenceClassification were not initialized from the model checkpoint at bert-base-uncased and are newly initialized: ['classifier.bias', 'classifier.weight']\n",
      "You should probably TRAIN this model on a down-stream task to be able to use it for predictions and inference.\n"
     ]
    },
    {
     "data": {
      "text/plain": [
       "<All keys matched successfully>"
      ]
     },
     "execution_count": 20,
     "metadata": {},
     "output_type": "execute_result"
    }
   ],
   "source": [
    "device = torch.device('cuda' if torch.cuda.is_available() else 'cpu')\n",
    "tokenizer = BertTokenizer.from_pretrained('bert-base-uncased')\n",
    "model = BertForSequenceClassification.from_pretrained('bert-base-uncased')\n",
    "model.load_state_dict(torch.load(\"./data/weights/model_weights_train_v1.0\"))"
   ]
  },
  {
   "cell_type": "code",
   "execution_count": 21,
   "metadata": {
    "tags": []
   },
   "outputs": [],
   "source": [
    "class BERTDisasterClassifier(BertForSequenceClassification):\n",
    "    def __init__(self, bert_model, tokenizer, hwd):\n",
    "        super().__init__(bert_model.config)\n",
    "        self.bert_model = bert_model\n",
    "        self.tokenizer = tokenizer\n",
    "        self.hwd = hwd\n",
    "        self.bert_model.to(self.hwd)\n",
    "        \n",
    "    def _get_encodeds(self, texts):\n",
    "        return self.tokenizer(texts, padding=True, truncation=True, return_tensors=\"pt\")\n",
    "\n",
    "    def predict(self, texts: list):\n",
    "        encoded_input = self._get_encodeds(texts)\n",
    "        input_ids = encoded_input['input_ids'].to(self.hwd)\n",
    "        attention_mask = encoded_input['attention_mask'].to(self.hwd)\n",
    "        self.bert_model.eval()\n",
    "        with torch.no_grad():\n",
    "            outputs = self.bert_model(input_ids=input_ids, attention_mask=attention_mask)\n",
    "            predictions = torch.argmax(outputs.logits, dim=1)\n",
    "        return predictions.cpu().numpy()"
   ]
  },
  {
   "cell_type": "code",
   "execution_count": 22,
   "metadata": {
    "tags": []
   },
   "outputs": [],
   "source": [
    "classifier = BERTDisasterClassifier(model, tokenizer, device)"
   ]
  },
  {
   "cell_type": "code",
   "execution_count": null,
   "metadata": {},
   "outputs": [],
   "source": [
    "# Desired batch size\n",
    "batch_size = 32\n",
    "\n",
    "num_items = len(df_train['Tweet'])\n",
    "num_splits = math.ceil(num_items / batch_size)\n",
    "\n",
    "# Use numpy.array_split to divide the tweets into batches\n",
    "batches = np.array_split(df_test['Tweet'].values, num_splits)\n",
    "\n",
    "predictions = np.concatenate([classifier.predict(batch.tolist()) for batch in batches])"
   ]
  },
  {
   "cell_type": "code",
   "execution_count": null,
   "metadata": {
    "tags": []
   },
   "outputs": [],
   "source": [
    "df_test['target'] = predictions\n",
    "submission_df = df_test[['id','target']]\n",
    "submission_df.to_csv('./data/my_submission.csv',index=False)"
   ]
  },
  {
   "cell_type": "code",
   "execution_count": null,
   "metadata": {},
   "outputs": [],
   "source": []
  }
 ],
 "metadata": {
  "kernelspec": {
   "display_name": "venv",
   "language": "python",
   "name": "venv"
  },
  "language_info": {
   "codemirror_mode": {
    "name": "ipython",
    "version": 3
   },
   "file_extension": ".py",
   "mimetype": "text/x-python",
   "name": "python",
   "nbconvert_exporter": "python",
   "pygments_lexer": "ipython3",
   "version": "3.10.12"
  }
 },
 "nbformat": 4,
 "nbformat_minor": 4
}
