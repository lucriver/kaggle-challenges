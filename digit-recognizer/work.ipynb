{
 "cells": [
  {
   "cell_type": "code",
   "execution_count": 253,
   "id": "e231cae6-8bb5-4b57-9ce5-60968972e7bc",
   "metadata": {
    "tags": []
   },
   "outputs": [],
   "source": [
    "import os\n",
    "os.environ['HSA_OVERRIDE_GFX_VERSION'] = '10.3.0'"
   ]
  },
  {
   "cell_type": "code",
   "execution_count": 254,
   "id": "2269d6e6-c342-4409-b63d-de139279d68d",
   "metadata": {
    "tags": []
   },
   "outputs": [],
   "source": [
    "import pandas as pd\n",
    "import numpy as np\n",
    "from matplotlib import pyplot as plt\n",
    "import torch"
   ]
  },
  {
   "cell_type": "code",
   "execution_count": 255,
   "id": "ddd0b9cf-4d52-438f-a661-873357bcc40b",
   "metadata": {
    "tags": []
   },
   "outputs": [],
   "source": [
    "data = './data/digit-recognizer/train.csv'"
   ]
  },
  {
   "cell_type": "code",
   "execution_count": 256,
   "id": "c2cc13ed-0974-4bec-8f44-d42fc3ee2e9e",
   "metadata": {
    "tags": []
   },
   "outputs": [],
   "source": [
    "df = pd.read_csv(data)"
   ]
  },
  {
   "cell_type": "code",
   "execution_count": 257,
   "id": "2e3155f6-8db0-43e0-9e29-14d37352fc2f",
   "metadata": {
    "tags": []
   },
   "outputs": [
    {
     "data": {
      "text/html": [
       "<div>\n",
       "<style scoped>\n",
       "    .dataframe tbody tr th:only-of-type {\n",
       "        vertical-align: middle;\n",
       "    }\n",
       "\n",
       "    .dataframe tbody tr th {\n",
       "        vertical-align: top;\n",
       "    }\n",
       "\n",
       "    .dataframe thead th {\n",
       "        text-align: right;\n",
       "    }\n",
       "</style>\n",
       "<table border=\"1\" class=\"dataframe\">\n",
       "  <thead>\n",
       "    <tr style=\"text-align: right;\">\n",
       "      <th></th>\n",
       "      <th>label</th>\n",
       "      <th>pixel0</th>\n",
       "      <th>pixel1</th>\n",
       "      <th>pixel2</th>\n",
       "      <th>pixel3</th>\n",
       "      <th>pixel4</th>\n",
       "      <th>pixel5</th>\n",
       "      <th>pixel6</th>\n",
       "      <th>pixel7</th>\n",
       "      <th>pixel8</th>\n",
       "      <th>...</th>\n",
       "      <th>pixel774</th>\n",
       "      <th>pixel775</th>\n",
       "      <th>pixel776</th>\n",
       "      <th>pixel777</th>\n",
       "      <th>pixel778</th>\n",
       "      <th>pixel779</th>\n",
       "      <th>pixel780</th>\n",
       "      <th>pixel781</th>\n",
       "      <th>pixel782</th>\n",
       "      <th>pixel783</th>\n",
       "    </tr>\n",
       "  </thead>\n",
       "  <tbody>\n",
       "    <tr>\n",
       "      <th>0</th>\n",
       "      <td>1</td>\n",
       "      <td>0</td>\n",
       "      <td>0</td>\n",
       "      <td>0</td>\n",
       "      <td>0</td>\n",
       "      <td>0</td>\n",
       "      <td>0</td>\n",
       "      <td>0</td>\n",
       "      <td>0</td>\n",
       "      <td>0</td>\n",
       "      <td>...</td>\n",
       "      <td>0</td>\n",
       "      <td>0</td>\n",
       "      <td>0</td>\n",
       "      <td>0</td>\n",
       "      <td>0</td>\n",
       "      <td>0</td>\n",
       "      <td>0</td>\n",
       "      <td>0</td>\n",
       "      <td>0</td>\n",
       "      <td>0</td>\n",
       "    </tr>\n",
       "  </tbody>\n",
       "</table>\n",
       "<p>1 rows × 785 columns</p>\n",
       "</div>"
      ],
      "text/plain": [
       "   label  pixel0  pixel1  pixel2  pixel3  pixel4  pixel5  pixel6  pixel7  \\\n",
       "0      1       0       0       0       0       0       0       0       0   \n",
       "\n",
       "   pixel8  ...  pixel774  pixel775  pixel776  pixel777  pixel778  pixel779  \\\n",
       "0       0  ...         0         0         0         0         0         0   \n",
       "\n",
       "   pixel780  pixel781  pixel782  pixel783  \n",
       "0         0         0         0         0  \n",
       "\n",
       "[1 rows x 785 columns]"
      ]
     },
     "metadata": {},
     "output_type": "display_data"
    }
   ],
   "source": [
    "display(df.head(1))"
   ]
  },
  {
   "cell_type": "markdown",
   "id": "7b0aee4c-ebe7-4fc2-beea-3c086c2555b0",
   "metadata": {},
   "source": [
    "#### Separate images from labels"
   ]
  },
  {
   "cell_type": "code",
   "execution_count": 258,
   "id": "fde20a9c-ac30-45b1-afe1-5e4e53ddf4df",
   "metadata": {
    "tags": []
   },
   "outputs": [],
   "source": [
    "X = df.drop(columns=['label'])\n",
    "y = df['label']"
   ]
  },
  {
   "cell_type": "code",
   "execution_count": 294,
   "id": "f145b482-1214-4d66-aaaa-be04c05c99d8",
   "metadata": {
    "tags": []
   },
   "outputs": [
    {
     "name": "stdout",
     "output_type": "stream",
     "text": [
      "labels: [1 0 4 7 3 5 8 9 2 6]\n",
      "labels: 10\n"
     ]
    }
   ],
   "source": [
    "print('labels:', y.unique())\n",
    "print('labels:', y.unique().size)"
   ]
  },
  {
   "cell_type": "markdown",
   "id": "fbd4a545-58de-4916-8fcd-2198ea5353ab",
   "metadata": {},
   "source": [
    "### See an example image"
   ]
  },
  {
   "cell_type": "code",
   "execution_count": 260,
   "id": "f13dcdd9-d924-4292-abeb-256d38a48bbb",
   "metadata": {
    "tags": []
   },
   "outputs": [
    {
     "name": "stdout",
     "output_type": "stream",
     "text": [
      "digit: 2\n"
     ]
    },
    {
     "data": {
      "image/png": "[encoded data removed]",
      "text/plain": [
       "<Figure size 640x480 with 1 Axes>"
      ]
     },
     "metadata": {},
     "output_type": "display_data"
    }
   ],
   "source": [
    "sample = X.sample()\n",
    "image = sample.values.reshape((28,28))\n",
    "idx = sample.index\n",
    "print('digit:',y.iloc[idx].values.squeeze())\n",
    "plt.imshow(image)\n",
    "plt.show()"
   ]
  },
  {
   "cell_type": "markdown",
   "id": "a4f1fe7d-adc3-49cf-af6f-fa2de5c6c9ca",
   "metadata": {},
   "source": [
    "### Work with GPU"
   ]
  },
  {
   "cell_type": "code",
   "execution_count": 270,
   "id": "88bd81b9-dc60-4c9e-97d3-94304ccc3537",
   "metadata": {
    "tags": []
   },
   "outputs": [
    {
     "data": {
      "text/plain": [
       "'AMD Radeon RX 6950 XT'"
      ]
     },
     "metadata": {},
     "output_type": "display_data"
    }
   ],
   "source": [
    "device = torch.device('cuda:0')\n",
    "display(torch.cuda.get_device_name(device))"
   ]
  },
  {
   "cell_type": "markdown",
   "id": "de61cb0e-ede0-4fcf-9d77-dc96920d018b",
   "metadata": {},
   "source": [
    "### Reshape images"
   ]
  },
  {
   "cell_type": "code",
   "execution_count": 274,
   "id": "500a0ccf-b1b2-4dd5-883b-82e2d1795246",
   "metadata": {
    "tags": []
   },
   "outputs": [
    {
     "name": "stdout",
     "output_type": "stream",
     "text": [
      "images: torch.Size([42000, 1, 28, 28])\n",
      "labels: torch.Size([42000, 1])\n"
     ]
    }
   ],
   "source": [
    "images = X.values\n",
    "images = images.reshape(-1, 1, 28, 28)\n",
    "\n",
    "images = torch.Tensor(images).to(device)\n",
    "labels = torch.Tensor(labels).to(device)\n",
    "\n",
    "print(f\"images: {images.shape}\")\n",
    "print(f\"labels: {labels.shape}\")"
   ]
  },
  {
   "cell_type": "markdown",
   "id": "485f6326-c4de-4beb-9e9e-8c9179b3673e",
   "metadata": {},
   "source": [
    "### Convolutional Neural Network\n",
    "Before using some out-of-the-box classifier, lets try defining our own neural network using pytorch\n",
    "\n",
    "#### Model architecture\n",
    "- Convolutional layer\n",
    "- Max pooling\n",
    "- linear layers"
   ]
  },
  {
   "cell_type": "code",
   "execution_count": 389,
   "id": "5ec1dfd6-b0b7-44d9-8cd2-5bf3712c62de",
   "metadata": {
    "tags": []
   },
   "outputs": [
    {
     "data": {
      "text/plain": [
       "torch.Size([42000, 1, 28, 28])"
      ]
     },
     "metadata": {},
     "output_type": "display_data"
    },
    {
     "data": {
      "text/plain": [
       "torch.Size([42000, 10])"
      ]
     },
     "execution_count": 389,
     "metadata": {},
     "output_type": "execute_result"
    }
   ],
   "source": [
    "import torch.nn as nn\n",
    "import torch.nn.functional as F\n",
    "\n",
    "class NeuralNet(nn.Module):\n",
    "    def __init__(self):\n",
    "        super().__init__()\n",
    "        self.conv1 = nn.Conv2d(1, 1, (5,5))\n",
    "        self.conv2 = nn.Conv2d(1, 1, (5,5))\n",
    "        self.pool = nn.MaxPool2d((2,2))\n",
    "        self.fc1 = nn.Linear(16, 64)\n",
    "        self.fc2 = nn.Linear(64, 32)\n",
    "        self.fc3 = nn.Linear(32, 10)\n",
    "\n",
    "    def forward(self, x):\n",
    "        x = self.pool(F.relu(self.conv1(x)))\n",
    "        x = self.pool(F.relu(self.conv2(x)))\n",
    "        x = torch.flatten(x, 1)\n",
    "        x = F.relu(self.fc1(x))\n",
    "        x = F.relu(self.fc2(x))\n",
    "        x = self.fc3(x)\n",
    "        return x\n",
    "            \n",
    "                    \n",
    "classifier = NeuralNet().to(device)\n",
    "display(images.shape)\n",
    "classifier.forward(images).shape"
   ]
  },
  {
   "cell_type": "code",
   "execution_count": null,
   "id": "715445db-1dc8-42ae-9384-c4e2f6eeb7c8",
   "metadata": {},
   "outputs": [],
   "source": []
  }
 ],
 "metadata": {
  "kernelspec": {
   "display_name": "venv",
   "language": "python",
   "name": "venv"
  },
  "language_info": {
   "codemirror_mode": {
    "name": "ipython",
    "version": 3
   },
   "file_extension": ".py",
   "mimetype": "text/x-python",
   "name": "python",
   "nbconvert_exporter": "python",
   "pygments_lexer": "ipython3",
   "version": "3.10.12"
  }
 },
 "nbformat": 4,
 "nbformat_minor": 5
}
