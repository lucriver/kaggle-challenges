{
 "cells": [
  {
   "cell_type": "code",
   "execution_count": 281,
   "id": "c066f5a6-2181-4e32-8e2a-190b66b8eb01",
   "metadata": {
    "tags": []
   },
   "outputs": [],
   "source": [
    "import pandas as pd\n",
    "import numpy as np\n",
    "import seaborn as sns\n",
    "\n",
    "from sklearn.model_selection import GridSearchCV\n",
    "from xgboost import XGBClassifier"
   ]
  },
  {
   "cell_type": "code",
   "execution_count": 282,
   "id": "96400a62-a85f-492e-a0fb-e0bc2ff74fe9",
   "metadata": {
    "tags": []
   },
   "outputs": [],
   "source": [
    "df = pd.read_csv('./data/train.csv')\n",
    "df_test = pd.read_csv('./data/test.csv')"
   ]
  },
  {
   "cell_type": "code",
   "execution_count": 283,
   "id": "03d86dc7-ab5c-43e5-9eae-a254db1c9f25",
   "metadata": {
    "tags": []
   },
   "outputs": [
    {
     "name": "stdout",
     "output_type": "stream",
     "text": [
      "<class 'pandas.core.frame.DataFrame'>\n",
      "RangeIndex: 891 entries, 0 to 890\n",
      "Data columns (total 12 columns):\n",
      " #   Column       Non-Null Count  Dtype  \n",
      "---  ------       --------------  -----  \n",
      " 0   PassengerId  891 non-null    int64  \n",
      " 1   Survived     891 non-null    int64  \n",
      " 2   Pclass       891 non-null    int64  \n",
      " 3   Name         891 non-null    object \n",
      " 4   Sex          891 non-null    object \n",
      " 5   Age          714 non-null    float64\n",
      " 6   SibSp        891 non-null    int64  \n",
      " 7   Parch        891 non-null    int64  \n",
      " 8   Ticket       891 non-null    object \n",
      " 9   Fare         891 non-null    float64\n",
      " 10  Cabin        204 non-null    object \n",
      " 11  Embarked     889 non-null    object \n",
      "dtypes: float64(2), int64(5), object(5)\n",
      "memory usage: 83.7+ KB\n"
     ]
    }
   ],
   "source": [
    "df.info()"
   ]
  },
  {
   "cell_type": "code",
   "execution_count": 284,
   "id": "45c800a2-4eca-4c87-bf18-29ae4a8358fe",
   "metadata": {
    "tags": []
   },
   "outputs": [
    {
     "data": {
      "text/html": [
       "<div>\n",
       "<style scoped>\n",
       "    .dataframe tbody tr th:only-of-type {\n",
       "        vertical-align: middle;\n",
       "    }\n",
       "\n",
       "    .dataframe tbody tr th {\n",
       "        vertical-align: top;\n",
       "    }\n",
       "\n",
       "    .dataframe thead th {\n",
       "        text-align: right;\n",
       "    }\n",
       "</style>\n",
       "<table border=\"1\" class=\"dataframe\">\n",
       "  <thead>\n",
       "    <tr style=\"text-align: right;\">\n",
       "      <th></th>\n",
       "      <th>PassengerId</th>\n",
       "      <th>Survived</th>\n",
       "      <th>Pclass</th>\n",
       "      <th>Name</th>\n",
       "      <th>Sex</th>\n",
       "      <th>Age</th>\n",
       "      <th>SibSp</th>\n",
       "      <th>Parch</th>\n",
       "      <th>Ticket</th>\n",
       "      <th>Fare</th>\n",
       "      <th>Cabin</th>\n",
       "      <th>Embarked</th>\n",
       "    </tr>\n",
       "  </thead>\n",
       "  <tbody>\n",
       "    <tr>\n",
       "      <th>0</th>\n",
       "      <td>1</td>\n",
       "      <td>0</td>\n",
       "      <td>3</td>\n",
       "      <td>Braund, Mr. Owen Harris</td>\n",
       "      <td>male</td>\n",
       "      <td>22.0</td>\n",
       "      <td>1</td>\n",
       "      <td>0</td>\n",
       "      <td>A/5 21171</td>\n",
       "      <td>7.2500</td>\n",
       "      <td>NaN</td>\n",
       "      <td>S</td>\n",
       "    </tr>\n",
       "    <tr>\n",
       "      <th>1</th>\n",
       "      <td>2</td>\n",
       "      <td>1</td>\n",
       "      <td>1</td>\n",
       "      <td>Cumings, Mrs. John Bradley (Florence Briggs Th...</td>\n",
       "      <td>female</td>\n",
       "      <td>38.0</td>\n",
       "      <td>1</td>\n",
       "      <td>0</td>\n",
       "      <td>PC 17599</td>\n",
       "      <td>71.2833</td>\n",
       "      <td>C85</td>\n",
       "      <td>C</td>\n",
       "    </tr>\n",
       "    <tr>\n",
       "      <th>2</th>\n",
       "      <td>3</td>\n",
       "      <td>1</td>\n",
       "      <td>3</td>\n",
       "      <td>Heikkinen, Miss. Laina</td>\n",
       "      <td>female</td>\n",
       "      <td>26.0</td>\n",
       "      <td>0</td>\n",
       "      <td>0</td>\n",
       "      <td>STON/O2. 3101282</td>\n",
       "      <td>7.9250</td>\n",
       "      <td>NaN</td>\n",
       "      <td>S</td>\n",
       "    </tr>\n",
       "  </tbody>\n",
       "</table>\n",
       "</div>"
      ],
      "text/plain": [
       "   PassengerId  Survived  Pclass  \\\n",
       "0            1         0       3   \n",
       "1            2         1       1   \n",
       "2            3         1       3   \n",
       "\n",
       "                                                Name     Sex   Age  SibSp  \\\n",
       "0                            Braund, Mr. Owen Harris    male  22.0      1   \n",
       "1  Cumings, Mrs. John Bradley (Florence Briggs Th...  female  38.0      1   \n",
       "2                             Heikkinen, Miss. Laina  female  26.0      0   \n",
       "\n",
       "   Parch            Ticket     Fare Cabin Embarked  \n",
       "0      0         A/5 21171   7.2500   NaN        S  \n",
       "1      0          PC 17599  71.2833   C85        C  \n",
       "2      0  STON/O2. 3101282   7.9250   NaN        S  "
      ]
     },
     "execution_count": 284,
     "metadata": {},
     "output_type": "execute_result"
    }
   ],
   "source": [
    "df.head(3)"
   ]
  },
  {
   "cell_type": "code",
   "execution_count": 285,
   "id": "5c98dbf3-92f6-4dcd-bdfc-0147c8642b16",
   "metadata": {
    "tags": []
   },
   "outputs": [
    {
     "name": "stdout",
     "output_type": "stream",
     "text": [
      "train missing\n",
      "PassengerId      0\n",
      "Survived         0\n",
      "Pclass           0\n",
      "Name             0\n",
      "Sex              0\n",
      "Age            177\n",
      "SibSp            0\n",
      "Parch            0\n",
      "Ticket           0\n",
      "Fare             0\n",
      "Cabin          687\n",
      "Embarked         2\n",
      "dtype: int64\n",
      "\n",
      "test missing\n",
      "PassengerId      0\n",
      "Pclass           0\n",
      "Name             0\n",
      "Sex              0\n",
      "Age             86\n",
      "SibSp            0\n",
      "Parch            0\n",
      "Ticket           0\n",
      "Fare             1\n",
      "Cabin          327\n",
      "Embarked         0\n",
      "dtype: int64\n"
     ]
    }
   ],
   "source": [
    "print(\"train missing\")\n",
    "print(df.isna().sum())\n",
    "print()\n",
    "print(\"test missing\")\n",
    "print(df_test.isna().sum())"
   ]
  },
  {
   "cell_type": "markdown",
   "id": "742aa7a0-5ed7-41d8-8cd1-8904cdcfcbe5",
   "metadata": {},
   "source": [
    "Support imputation for:\n",
    "- Age\n",
    "- Fare\n",
    "- Embarked"
   ]
  },
  {
   "cell_type": "code",
   "execution_count": 286,
   "id": "28cbfc6f-713d-476e-be64-f0627fbc1d7e",
   "metadata": {
    "tags": []
   },
   "outputs": [],
   "source": [
    "df['Survived'] = df['Survived'].map({0: False, 1: True})\n",
    "\n",
    "df['Pclass'] = df['Pclass'].astype('category').cat.codes\n",
    "\n",
    "df = df.rename(columns={'Sex': 'Male'})\n",
    "df['Male'] = df['Male'].map({'male': True, 'female':False})\n",
    "\n",
    "df.loc[df['Cabin'].notna(), 'HasCabin'] = True\n",
    "df.loc[df['Cabin'].isna(), 'HasCabin'] = False\n",
    "df['HasCabin'] = df['HasCabin'].astype('bool')"
   ]
  },
  {
   "cell_type": "code",
   "execution_count": 287,
   "id": "f9413755-9f1c-4266-b570-dbf2181b8218",
   "metadata": {
    "tags": []
   },
   "outputs": [
    {
     "name": "stdout",
     "output_type": "stream",
     "text": [
      "Embarked\n",
      "S    644\n",
      "C    168\n",
      "Q     77\n",
      "Name: count, dtype: int64\n"
     ]
    }
   ],
   "source": [
    "print(df['Embarked'].value_counts())\n",
    "df['Embarked'] = df['Embarked'].fillna('S')"
   ]
  },
  {
   "cell_type": "code",
   "execution_count": 288,
   "id": "0bea2839-fdea-4b2b-8ebb-b3a2e07fc29b",
   "metadata": {
    "tags": []
   },
   "outputs": [
    {
     "data": {
      "text/plain": [
       "Title\n",
       "Mr              517\n",
       "Miss            182\n",
       "Mrs             125\n",
       "Master           40\n",
       "Dr                7\n",
       "Rev               6\n",
       "Col               2\n",
       "Mlle              2\n",
       "Major             2\n",
       "Ms                1\n",
       "Mme               1\n",
       "Don               1\n",
       "Lady              1\n",
       "Sir               1\n",
       "Capt              1\n",
       "the Countess      1\n",
       "Jonkheer          1\n",
       "Name: count, dtype: int64"
      ]
     },
     "execution_count": 288,
     "metadata": {},
     "output_type": "execute_result"
    }
   ],
   "source": [
    "df['Title'] = df['Name'].apply(lambda x: x.split(',')[1].split('.')[0].strip())\n",
    "df['Title'].value_counts()"
   ]
  },
  {
   "cell_type": "code",
   "execution_count": 289,
   "id": "40fc933d-ed17-4623-a373-f17836548964",
   "metadata": {
    "tags": []
   },
   "outputs": [
    {
     "data": {
      "text/plain": [
       "<Axes: xlabel='Title', ylabel='Survived'>"
      ]
     },
     "execution_count": 289,
     "metadata": {},
     "output_type": "execute_result"
    },
    {
     "data": {
      "image/png": "[encoded data removed]",
      "text/plain": [
       "<Figure size 640x480 with 1 Axes>"
      ]
     },
     "metadata": {},
     "output_type": "display_data"
    }
   ],
   "source": [
    "df['Title'] = df['Title'].replace(['Mlle', 'Ms', 'Jonkheer', 'Lady'], 'Miss')\n",
    "df['Title'] = df['Title'].replace(['Mme', 'Dona', 'the Countess'], 'Mrs')\n",
    "df['Title'] = df['Title'].replace(['Don', 'Sir'], 'Mr')\n",
    "df['Title'] = df['Title'].replace(['Capt', 'Col', 'Major'], 'Naval')\n",
    "df['Title'] = df['Title'].replace(['Dr', 'Rev'], 'Others')\n",
    "\n",
    "sns.barplot(x='Title',y='Survived',data=df)"
   ]
  },
  {
   "cell_type": "code",
   "execution_count": 290,
   "id": "77431dcd-49f3-458b-8572-f09f25983356",
   "metadata": {
    "tags": []
   },
   "outputs": [],
   "source": [
    "ages = df.groupby(['Title'])['Age'].transform('median')\n",
    "df['Age'] = df['Age'].fillna(ages)"
   ]
  },
  {
   "cell_type": "code",
   "execution_count": 291,
   "id": "c08f0bb3-759b-40e6-87f0-6a23212dc2a8",
   "metadata": {
    "tags": []
   },
   "outputs": [],
   "source": [
    "fares = df.groupby(['Pclass', 'Title'])['Fare'].transform('median')\n",
    "df['Fare'] = df['Fare'].fillna(fares)"
   ]
  },
  {
   "cell_type": "code",
   "execution_count": 292,
   "id": "d1299a68-4961-4f99-a2c0-634244a93ed2",
   "metadata": {
    "tags": []
   },
   "outputs": [
    {
     "data": {
      "text/plain": [
       "<Axes: xlabel='HasFamily', ylabel='Survived'>"
      ]
     },
     "execution_count": 292,
     "metadata": {},
     "output_type": "execute_result"
    },
    {
     "data": {
      "image/png": "[encoded data removed]",
      "text/plain": [
       "<Figure size 640x480 with 1 Axes>"
      ]
     },
     "metadata": {},
     "output_type": "display_data"
    }
   ],
   "source": [
    "df['FamilySize'] = df['SibSp'] + df['Parch']\n",
    "df['HasFamily'] = df['FamilySize'] > 0\n",
    "sns.barplot(x='HasFamily', y='Survived',data=df)"
   ]
  },
  {
   "cell_type": "code",
   "execution_count": 293,
   "id": "a9ad43b2-01d7-4b55-a7f5-c3988d65628e",
   "metadata": {
    "tags": []
   },
   "outputs": [
    {
     "data": {
      "text/plain": [
       "<Axes: xlabel='BinnedFare', ylabel='Survived'>"
      ]
     },
     "execution_count": 293,
     "metadata": {},
     "output_type": "execute_result"
    },
    {
     "data": {
      "image/png": "[encoded data removed]",
      "text/plain": [
       "<Figure size 640x480 with 1 Axes>"
      ]
     },
     "metadata": {},
     "output_type": "display_data"
    }
   ],
   "source": [
    "df.loc[df['Fare'] <= 17, 'BinnedFare'] = 0\n",
    "df.loc[(df['Fare'] > 17) & (df['Fare'] <= 30), 'BinnedFare'] = 1\n",
    "df.loc[(df['Fare'] > 30) & (df['Fare'] <= 100), 'BinnedFare'] = 2\n",
    "df.loc[df['Fare'] >= 100, 'BinnedFare'] = 3\n",
    "sns.barplot(x='BinnedFare',y='Survived',data=df)"
   ]
  },
  {
   "cell_type": "code",
   "execution_count": 302,
   "id": "c17c0699-7f83-454f-a1a0-0730842ed7a9",
   "metadata": {
    "tags": []
   },
   "outputs": [
    {
     "name": "stdout",
     "output_type": "stream",
     "text": [
      "Parch\n",
      "0    678\n",
      "1    118\n",
      "2     80\n",
      "5      5\n",
      "3      5\n",
      "4      4\n",
      "6      1\n",
      "Name: count, dtype: int64\n"
     ]
    },
    {
     "data": {
      "text/plain": [
       "<Axes: xlabel='Parch', ylabel='Survived'>"
      ]
     },
     "execution_count": 302,
     "metadata": {},
     "output_type": "execute_result"
    },
    {
     "data": {
      "image/png": "[encoded data removed]",
      "text/plain": [
       "<Figure size 640x480 with 1 Axes>"
      ]
     },
     "metadata": {},
     "output_type": "display_data"
    }
   ],
   "source": [
    "print(df['Parch'].value_counts())\n",
    "sns.barplot(x='Parch',y='Survived',data=df)"
   ]
  },
  {
   "cell_type": "code",
   "execution_count": 294,
   "id": "03f89e9e-427c-4b44-9738-f3d0edd08899",
   "metadata": {
    "tags": []
   },
   "outputs": [
    {
     "data": {
      "text/plain": [
       "Index(['PassengerId', 'Survived', 'Pclass', 'Name', 'Male', 'Age', 'SibSp',\n",
       "       'Parch', 'Ticket', 'Fare', 'Cabin', 'Embarked', 'HasCabin', 'Title',\n",
       "       'FamilySize', 'HasFamily', 'BinnedFare'],\n",
       "      dtype='object')"
      ]
     },
     "execution_count": 294,
     "metadata": {},
     "output_type": "execute_result"
    }
   ],
   "source": [
    "df.columns"
   ]
  },
  {
   "cell_type": "code",
   "execution_count": 299,
   "id": "0fc0fd56-ad60-436a-be80-9f6f3d903a22",
   "metadata": {
    "tags": []
   },
   "outputs": [
    {
     "name": "stdout",
     "output_type": "stream",
     "text": [
      "Index(['Embarked_C', 'Embarked_Q', 'Embarked_S', 'Title_Master', 'Title_Miss',\n",
      "       'Title_Mr', 'Title_Mrs', 'Title_Naval', 'Title_Others', 'Pclass_0',\n",
      "       'Pclass_1', 'Pclass_2', 'BinnedFare_0.0', 'BinnedFare_1.0',\n",
      "       'BinnedFare_2.0', 'BinnedFare_3.0', 'Male', 'HasCabin', 'Age',\n",
      "       'HasFamily'],\n",
      "      dtype='object')\n",
      "0.8451472862767154\n"
     ]
    }
   ],
   "source": [
    "one_hot = ['Embarked', 'Title', 'Pclass', 'BinnedFare']\n",
    "other = ['Male', 'HasCabin', 'Age', 'HasFamily']\n",
    "\n",
    "df_one_hot = pd.get_dummies(df[one_hot], columns=one_hot)\n",
    "X = df_one_hot.join(df[other + ['Survived']])\n",
    "y = X['Survived']\n",
    "X = X.drop(columns=['Survived'])\n",
    "\n",
    "print(X.columns)\n",
    "\n",
    "params = {\n",
    "    'n_estimators': [200, 300, 400, 500, 600, 700, 800],\n",
    "    'learning_rate': [0.1, 0.01, 0.001],\n",
    "    'max_depth': [3,5,7],\n",
    "    'subsample': [0.5, 0.7, 1]\n",
    "}\n",
    "\n",
    "gridcv = GridSearchCV(XGBClassifier(), cv=7, n_jobs=-1, param_grid=params)\n",
    "gridcv.fit(X,y)\n",
    "\n",
    "print(gridcv.best_score_)"
   ]
  },
  {
   "cell_type": "code",
   "execution_count": null,
   "id": "2d6cfb62-5d80-40b7-8fa2-bc9b154111a5",
   "metadata": {},
   "outputs": [],
   "source": []
  }
 ],
 "metadata": {
  "kernelspec": {
   "display_name": "venv",
   "language": "python",
   "name": "venv"
  },
  "language_info": {
   "codemirror_mode": {
    "name": "ipython",
    "version": 3
   },
   "file_extension": ".py",
   "mimetype": "text/x-python",
   "name": "python",
   "nbconvert_exporter": "python",
   "pygments_lexer": "ipython3",
   "version": "3.10.12"
  }
 },
 "nbformat": 4,
 "nbformat_minor": 5
}
