{
 "cells": [
  {
   "cell_type": "code",
   "execution_count": 1298,
   "id": "57309dc3-8c24-4692-8ab1-5968a7a8579d",
   "metadata": {
    "tags": []
   },
   "outputs": [],
   "source": [
    "import os\n",
    "os.environ['HSA_OVERRIDE_GFX_VERSION'] = '10.3.0'\n",
    "\n",
    "import re\n",
    "\n",
    "import seaborn as sns\n",
    "import pandas as pd\n",
    "import numpy as np\n",
    "\n",
    "import matplotlib.pyplot as plt\n",
    "\n",
    "from sklearn.ensemble import RandomForestClassifier, GradientBoostingClassifier\n",
    "from sklearn.feature_selection import SelectFromModel\n",
    "from sklearn.model_selection import GridSearchCV, train_test_split, StratifiedKFold, cross_val_score, learning_curve\n",
    "from sklearn.metrics import f1_score, confusion_matrix, roc_auc_score\n",
    "\n",
    "from xgboost import XGBClassifier"
   ]
  },
  {
   "cell_type": "code",
   "execution_count": 1299,
   "id": "b81ac4c5",
   "metadata": {},
   "outputs": [],
   "source": [
    "df_train = pd.read_csv('./data/train.csv')\n",
    "df_test = pd.read_csv('./data/test.csv')"
   ]
  },
  {
   "cell_type": "code",
   "execution_count": 1300,
   "id": "5c577749",
   "metadata": {},
   "outputs": [
    {
     "name": "stdout",
     "output_type": "stream",
     "text": [
      "<class 'pandas.core.frame.DataFrame'>\n",
      "RangeIndex: 891 entries, 0 to 890\n",
      "Data columns (total 12 columns):\n",
      " #   Column       Non-Null Count  Dtype  \n",
      "---  ------       --------------  -----  \n",
      " 0   PassengerId  891 non-null    int64  \n",
      " 1   Survived     891 non-null    int64  \n",
      " 2   Pclass       891 non-null    int64  \n",
      " 3   Name         891 non-null    object \n",
      " 4   Sex          891 non-null    object \n",
      " 5   Age          714 non-null    float64\n",
      " 6   SibSp        891 non-null    int64  \n",
      " 7   Parch        891 non-null    int64  \n",
      " 8   Ticket       891 non-null    object \n",
      " 9   Fare         891 non-null    float64\n",
      " 10  Cabin        204 non-null    object \n",
      " 11  Embarked     889 non-null    object \n",
      "dtypes: float64(2), int64(5), object(5)\n",
      "memory usage: 83.7+ KB\n"
     ]
    }
   ],
   "source": [
    "df_train.info()"
   ]
  },
  {
   "cell_type": "code",
   "execution_count": 1301,
   "id": "4b43d62c",
   "metadata": {},
   "outputs": [
    {
     "data": {
      "text/plain": [
       "PassengerId      0\n",
       "Survived         0\n",
       "Pclass           0\n",
       "Name             0\n",
       "Sex              0\n",
       "Age            177\n",
       "SibSp            0\n",
       "Parch            0\n",
       "Ticket           0\n",
       "Fare             0\n",
       "Cabin          687\n",
       "Embarked         2\n",
       "dtype: int64"
      ]
     },
     "execution_count": 1301,
     "metadata": {},
     "output_type": "execute_result"
    }
   ],
   "source": [
    "df_train.isna().sum()"
   ]
  },
  {
   "cell_type": "code",
   "execution_count": 1302,
   "id": "454eb5de",
   "metadata": {},
   "outputs": [
    {
     "data": {
      "text/html": [
       "<div>\n",
       "<style scoped>\n",
       "    .dataframe tbody tr th:only-of-type {\n",
       "        vertical-align: middle;\n",
       "    }\n",
       "\n",
       "    .dataframe tbody tr th {\n",
       "        vertical-align: top;\n",
       "    }\n",
       "\n",
       "    .dataframe thead th {\n",
       "        text-align: right;\n",
       "    }\n",
       "</style>\n",
       "<table border=\"1\" class=\"dataframe\">\n",
       "  <thead>\n",
       "    <tr style=\"text-align: right;\">\n",
       "      <th></th>\n",
       "      <th>PassengerId</th>\n",
       "      <th>Survived</th>\n",
       "      <th>Pclass</th>\n",
       "      <th>Name</th>\n",
       "      <th>Sex</th>\n",
       "      <th>Age</th>\n",
       "      <th>SibSp</th>\n",
       "      <th>Parch</th>\n",
       "      <th>Ticket</th>\n",
       "      <th>Fare</th>\n",
       "      <th>Cabin</th>\n",
       "      <th>Embarked</th>\n",
       "    </tr>\n",
       "  </thead>\n",
       "  <tbody>\n",
       "    <tr>\n",
       "      <th>0</th>\n",
       "      <td>1</td>\n",
       "      <td>0</td>\n",
       "      <td>3</td>\n",
       "      <td>Braund, Mr. Owen Harris</td>\n",
       "      <td>male</td>\n",
       "      <td>22.0</td>\n",
       "      <td>1</td>\n",
       "      <td>0</td>\n",
       "      <td>A/5 21171</td>\n",
       "      <td>7.2500</td>\n",
       "      <td>NaN</td>\n",
       "      <td>S</td>\n",
       "    </tr>\n",
       "    <tr>\n",
       "      <th>1</th>\n",
       "      <td>2</td>\n",
       "      <td>1</td>\n",
       "      <td>1</td>\n",
       "      <td>Cumings, Mrs. John Bradley (Florence Briggs Th...</td>\n",
       "      <td>female</td>\n",
       "      <td>38.0</td>\n",
       "      <td>1</td>\n",
       "      <td>0</td>\n",
       "      <td>PC 17599</td>\n",
       "      <td>71.2833</td>\n",
       "      <td>C85</td>\n",
       "      <td>C</td>\n",
       "    </tr>\n",
       "    <tr>\n",
       "      <th>2</th>\n",
       "      <td>3</td>\n",
       "      <td>1</td>\n",
       "      <td>3</td>\n",
       "      <td>Heikkinen, Miss. Laina</td>\n",
       "      <td>female</td>\n",
       "      <td>26.0</td>\n",
       "      <td>0</td>\n",
       "      <td>0</td>\n",
       "      <td>STON/O2. 3101282</td>\n",
       "      <td>7.9250</td>\n",
       "      <td>NaN</td>\n",
       "      <td>S</td>\n",
       "    </tr>\n",
       "    <tr>\n",
       "      <th>3</th>\n",
       "      <td>4</td>\n",
       "      <td>1</td>\n",
       "      <td>1</td>\n",
       "      <td>Futrelle, Mrs. Jacques Heath (Lily May Peel)</td>\n",
       "      <td>female</td>\n",
       "      <td>35.0</td>\n",
       "      <td>1</td>\n",
       "      <td>0</td>\n",
       "      <td>113803</td>\n",
       "      <td>53.1000</td>\n",
       "      <td>C123</td>\n",
       "      <td>S</td>\n",
       "    </tr>\n",
       "    <tr>\n",
       "      <th>4</th>\n",
       "      <td>5</td>\n",
       "      <td>0</td>\n",
       "      <td>3</td>\n",
       "      <td>Allen, Mr. William Henry</td>\n",
       "      <td>male</td>\n",
       "      <td>35.0</td>\n",
       "      <td>0</td>\n",
       "      <td>0</td>\n",
       "      <td>373450</td>\n",
       "      <td>8.0500</td>\n",
       "      <td>NaN</td>\n",
       "      <td>S</td>\n",
       "    </tr>\n",
       "  </tbody>\n",
       "</table>\n",
       "</div>"
      ],
      "text/plain": [
       "   PassengerId  Survived  Pclass  \\\n",
       "0            1         0       3   \n",
       "1            2         1       1   \n",
       "2            3         1       3   \n",
       "3            4         1       1   \n",
       "4            5         0       3   \n",
       "\n",
       "                                                Name     Sex   Age  SibSp  \\\n",
       "0                            Braund, Mr. Owen Harris    male  22.0      1   \n",
       "1  Cumings, Mrs. John Bradley (Florence Briggs Th...  female  38.0      1   \n",
       "2                             Heikkinen, Miss. Laina  female  26.0      0   \n",
       "3       Futrelle, Mrs. Jacques Heath (Lily May Peel)  female  35.0      1   \n",
       "4                           Allen, Mr. William Henry    male  35.0      0   \n",
       "\n",
       "   Parch            Ticket     Fare Cabin Embarked  \n",
       "0      0         A/5 21171   7.2500   NaN        S  \n",
       "1      0          PC 17599  71.2833   C85        C  \n",
       "2      0  STON/O2. 3101282   7.9250   NaN        S  \n",
       "3      0            113803  53.1000  C123        S  \n",
       "4      0            373450   8.0500   NaN        S  "
      ]
     },
     "execution_count": 1302,
     "metadata": {},
     "output_type": "execute_result"
    }
   ],
   "source": [
    "df_train.head()"
   ]
  },
  {
   "cell_type": "markdown",
   "id": "9791d71f-be5a-4a97-98fc-f3159c2836c9",
   "metadata": {},
   "source": [
    "### Extract 'Title' Column\n",
    "- This can hold insights as well as help us impute age"
   ]
  },
  {
   "cell_type": "code",
   "execution_count": 1303,
   "id": "ae1965dd-85d3-46ef-8865-5c55c073a266",
   "metadata": {},
   "outputs": [
    {
     "data": {
      "text/plain": [
       "(Title\n",
       " Mr          517\n",
       " Miss        182\n",
       " Mrs         125\n",
       " Master       40\n",
       " Dr            7\n",
       " Rev           6\n",
       " Col           2\n",
       " Mlle          2\n",
       " Major         2\n",
       " Ms            1\n",
       " Mme           1\n",
       " Don           1\n",
       " Lady          1\n",
       " Sir           1\n",
       " Capt          1\n",
       " Countess      1\n",
       " Jonkheer      1\n",
       " Name: count, dtype: int64,\n",
       " Title\n",
       " Mr        240\n",
       " Miss       78\n",
       " Mrs        72\n",
       " Master     21\n",
       " Col         2\n",
       " Rev         2\n",
       " Ms          1\n",
       " Dr          1\n",
       " Dona        1\n",
       " Name: count, dtype: int64)"
      ]
     },
     "execution_count": 1303,
     "metadata": {},
     "output_type": "execute_result"
    }
   ],
   "source": [
    "df_train['Title'] = df_train['Name'].apply(lambda x: (re.search(' ([a-zA-Z]+)\\.', x)).group(1))\n",
    "df_test['Title'] = df_test['Name'].apply(lambda x: (re.search(' ([a-zA-Z]+)\\.', x)).group(1))\n",
    "df_train['Title'].value_counts(), df_test['Title'].value_counts()"
   ]
  },
  {
   "cell_type": "code",
   "execution_count": 1304,
   "id": "584ec69d-68eb-49dc-b116-bbe6f2fc4088",
   "metadata": {},
   "outputs": [],
   "source": [
    "title_mapping = {\n",
    "                    'Capt':       'Officer',\n",
    "                    'Col':        'Officer',\n",
    "                    'Major':      'Officer',\n",
    "                    'Jonkheer':   'Royalty',\n",
    "                    'Don':        'Royalty',\n",
    "                    'Sir' :       'Royalty',\n",
    "                    'Dr':         'Officer',\n",
    "                    'Rev':        'Officer',\n",
    "                    'Countess':   'Royalty',\n",
    "                    'Dona':       'Royalty',\n",
    "                    'Mme':        'Mrs',\n",
    "                    'Mlle':       'Miss',\n",
    "                    'Ms':         'Mrs',\n",
    "                    'Mr' :        'Mr',\n",
    "                    'Mrs' :       'Mrs',\n",
    "                    'Miss' :      'Miss',\n",
    "                    'Master' :    'Master',\n",
    "                    'Lady' :      'Royalty'\n",
    "                    } \n",
    "\n",
    "df_train['Title'] = df_train['Title'].map(title_mapping)\n",
    "df_test['Title'] = df_test['Title'].map(title_mapping)"
   ]
  },
  {
   "cell_type": "markdown",
   "id": "6b8e3d54-8491-41fe-96a6-e8a7df6ad3c1",
   "metadata": {},
   "source": [
    "### Imputing Age\n",
    "- Imputation of age on the entirely column seems lacking. We have additional information like title, gender and the Pclass, which should help us provide a better educated imputation for age."
   ]
  },
  {
   "cell_type": "code",
   "execution_count": 1305,
   "id": "a7b8dbc4-8deb-4a8a-941a-98e5e1375822",
   "metadata": {},
   "outputs": [
    {
     "name": "stdout",
     "output_type": "stream",
     "text": [
      "Title    Sex     Pclass\n",
      "Master   male    1          4.0\n",
      "                 2          1.0\n",
      "                 3          4.0\n",
      "Miss     female  1         30.0\n",
      "                 2         24.0\n",
      "                 3         18.0\n",
      "Mr       male    1         40.0\n",
      "                 2         31.0\n",
      "                 3         26.0\n",
      "Mrs      female  1         40.0\n",
      "                 2         31.5\n",
      "                 3         31.0\n",
      "Officer  female  1         49.0\n",
      "         male    1         51.0\n",
      "                 2         46.5\n",
      "Royalty  female  1         40.5\n",
      "         male    1         40.0\n",
      "Name: Age, dtype: float64\n",
      "Title    Sex     Pclass\n",
      "Master   male    1          9.5\n",
      "                 2          5.0\n",
      "                 3          7.0\n",
      "Miss     female  1         32.0\n",
      "                 2         19.5\n",
      "                 3         22.0\n",
      "Mr       male    1         42.0\n",
      "                 2         28.0\n",
      "                 3         25.0\n",
      "Mrs      female  1         48.0\n",
      "                 2         29.0\n",
      "                 3         28.0\n",
      "Officer  male    1         53.0\n",
      "                 2         35.5\n",
      "Royalty  female  1         39.0\n",
      "Name: Age, dtype: float64\n"
     ]
    }
   ],
   "source": [
    "print(df_train.groupby(['Title', 'Sex', 'Pclass'])['Age'].median())\n",
    "print(df_test.groupby(['Title', 'Sex', 'Pclass'])['Age'].median())"
   ]
  },
  {
   "cell_type": "code",
   "execution_count": 1306,
   "id": "9096ef0f-48ff-4750-9b85-d707287614b5",
   "metadata": {},
   "outputs": [],
   "source": [
    "ages_train = df_train.groupby(['Pclass', 'Sex', 'Title'])['Age'].transform('median')\n",
    "df_train.Age = df_train.Age.fillna(ages_train)\n",
    "\n",
    "ages_test = df_test.groupby(['Pclass', 'Sex', 'Title'])['Age'].transform('median')\n",
    "df_test.Age = df_test.Age.fillna(ages_test)"
   ]
  },
  {
   "cell_type": "markdown",
   "id": "3ac431ac-88fe-48e5-9c69-b0d0870cc73b",
   "metadata": {},
   "source": [
    "### Handling family\n",
    "- Lets see if people traveling together/with family effects survival rate."
   ]
  },
  {
   "cell_type": "code",
   "execution_count": 1307,
   "id": "3b3ee955-912e-4f46-bbce-7d7ab80a0d23",
   "metadata": {},
   "outputs": [],
   "source": [
    "df_train['FamilySize'] = df_train['Parch'] + df_train['SibSp']\n",
    "df_test['FamilySize'] = df_test['Parch'] + df_test['SibSp']\n",
    "\n",
    "df_train['IsAlone'] = df_train['FamilySize'] == 0\n",
    "df_test['IsAlone'] = df_test['FamilySize'] == 0"
   ]
  },
  {
   "cell_type": "code",
   "execution_count": 1308,
   "id": "39575c07-06c1-4f15-8c2b-d3b9be5cc523",
   "metadata": {},
   "outputs": [
    {
     "name": "stderr",
     "output_type": "stream",
     "text": [
      "/home/lucas/Code/kaggle-challenges/venv/lib/python3.10/site-packages/seaborn/axisgrid.py:718: UserWarning: Using the barplot function without specifying `order` is likely to produce an incorrect plot.\n",
      "  warnings.warn(warning)\n"
     ]
    },
    {
     "data": {
      "text/plain": [
       "<seaborn.axisgrid.FacetGrid at 0x703deb436950>"
      ]
     },
     "execution_count": 1308,
     "metadata": {},
     "output_type": "execute_result"
    },
    {
     "data": {
      "image/png": "[encoded data removed]",
      "text/plain": [
       "<Figure size 900x300 with 3 Axes>"
      ]
     },
     "metadata": {},
     "output_type": "display_data"
    }
   ],
   "source": [
    "g = sns.FacetGrid(df_train, col='Pclass')\n",
    "g.map(sns.barplot, 'FamilySize', 'Survived')"
   ]
  },
  {
   "cell_type": "code",
   "execution_count": 1309,
   "id": "32eee08e-0e0a-4c28-98c0-bd6ac520f223",
   "metadata": {},
   "outputs": [],
   "source": [
    "def FamilySize(x):\n",
    "    if x == 1 or x == 2:\n",
    "        return 'little'\n",
    "    elif x == 3:\n",
    "        return 'medium'\n",
    "    elif x >= 5:\n",
    "        return 'big'\n",
    "    else:\n",
    "        return 'none'\n",
    "#Applying it\n",
    "df_train['FamilySize'] = df_train['FamilySize'].apply(lambda x : FamilySize(x))\n",
    "df_test['FamilySize'] = df_test['FamilySize'].apply(lambda x : FamilySize(x))"
   ]
  },
  {
   "cell_type": "code",
   "execution_count": 1310,
   "id": "a9d2d3b5-4107-4fc9-b175-822a04133f61",
   "metadata": {},
   "outputs": [
    {
     "name": "stderr",
     "output_type": "stream",
     "text": [
      "/home/lucas/Code/kaggle-challenges/venv/lib/python3.10/site-packages/seaborn/axisgrid.py:718: UserWarning: Using the barplot function without specifying `order` is likely to produce an incorrect plot.\n",
      "  warnings.warn(warning)\n"
     ]
    },
    {
     "data": {
      "text/plain": [
       "<seaborn.axisgrid.FacetGrid at 0x703de81aa590>"
      ]
     },
     "execution_count": 1310,
     "metadata": {},
     "output_type": "execute_result"
    },
    {
     "data": {
      "image/png": "[encoded data removed]",
      "text/plain": [
       "<Figure size 900x300 with 3 Axes>"
      ]
     },
     "metadata": {},
     "output_type": "display_data"
    }
   ],
   "source": [
    "g = sns.FacetGrid(df_train, col='Pclass')\n",
    "g.map(sns.barplot, 'FamilySize', 'Survived')"
   ]
  },
  {
   "cell_type": "markdown",
   "id": "67cb84e7-945a-4b98-801b-6e86da63638a",
   "metadata": {},
   "source": [
    "### Checking ticket\n",
    "- Lets see if we can extrapolate anything from ticket"
   ]
  },
  {
   "cell_type": "code",
   "execution_count": 1311,
   "id": "a3cacc97-19a4-4922-938d-8762f4978ba5",
   "metadata": {},
   "outputs": [],
   "source": [
    "def Ticket_Prefix(x):\n",
    "    l=x.split()\n",
    "    if len(x.split()) == 3:\n",
    "        return x.split()[0] + x.split()[1]\n",
    "    elif len(x.split()) == 2:\n",
    "        return x.split()[0]\n",
    "    else:\n",
    "        return 'None'\n",
    "df_train['TicketPrefix'] = df_train['Ticket'].apply(lambda x: Ticket_Prefix(x))\n",
    "df_test['TicketPrefix'] = df_test['Ticket'].apply(lambda x: Ticket_Prefix(x))"
   ]
  },
  {
   "cell_type": "code",
   "execution_count": 1312,
   "id": "1f4c289b-f970-4815-92c1-9771068152cc",
   "metadata": {},
   "outputs": [
    {
     "data": {
      "text/plain": [
       "(TicketPrefix\n",
       " A./5.         0.000000\n",
       " A.5.          0.000000\n",
       " A/4           0.000000\n",
       " A/4.          0.000000\n",
       " A4.           0.000000\n",
       " A/S           0.000000\n",
       " C.A./SOTON    0.000000\n",
       " CA            0.000000\n",
       " Fa            0.000000\n",
       " F.C.          0.000000\n",
       " S.O.C.        0.000000\n",
       " S.P.          0.000000\n",
       " S.O.P.        0.000000\n",
       " S.C./A.4.     0.000000\n",
       " S.O./P.P.     0.000000\n",
       " SCO/W         0.000000\n",
       " W.E.P.        0.000000\n",
       " W/C           0.000000\n",
       " SOTON/O2      0.000000\n",
       " A/5           0.100000\n",
       " W./C.         0.111111\n",
       " CA.           0.125000\n",
       " SOTON/O.Q.    0.125000\n",
       " A/5.          0.142857\n",
       " SOTON/OQ      0.142857\n",
       " None          0.383459\n",
       " SC/PARIS      0.400000\n",
       " C             0.400000\n",
       " STON/O2.      0.444444\n",
       " C.A.          0.481481\n",
       " SC/Paris      0.500000\n",
       " P/PP          0.500000\n",
       " WE/P          0.500000\n",
       " S.C./PARIS    0.500000\n",
       " SC/AH         0.500000\n",
       " PC            0.650000\n",
       " PP            0.666667\n",
       " F.C.C.        0.800000\n",
       " S.W./PP       1.000000\n",
       " SC            1.000000\n",
       " SC/AHBasle    1.000000\n",
       " SO/C          1.000000\n",
       " SW/PP         1.000000\n",
       " Name: Survived, dtype: float64,\n",
       " TicketPrefix\n",
       " None          665\n",
       " PC             60\n",
       " C.A.           27\n",
       " STON/O2.       18\n",
       " A/5            10\n",
       " W./C.           9\n",
       " SOTON/O.Q.      8\n",
       " CA.             8\n",
       " SOTON/OQ        7\n",
       " A/5.            7\n",
       " CA              6\n",
       " F.C.C.          5\n",
       " SC/PARIS        5\n",
       " C               5\n",
       " S.O.C.          5\n",
       " SC/Paris        4\n",
       " S.O./P.P.       3\n",
       " A/4.            3\n",
       " PP              3\n",
       " A/4             3\n",
       " A./5.           2\n",
       " S.C./PARIS      2\n",
       " A.5.            2\n",
       " SC/AH           2\n",
       " P/PP            2\n",
       " WE/P            2\n",
       " SOTON/O2        2\n",
       " S.C./A.4.       1\n",
       " S.O.P.          1\n",
       " Fa              1\n",
       " A4.             1\n",
       " SO/C            1\n",
       " S.P.            1\n",
       " W.E.P.          1\n",
       " SW/PP           1\n",
       " SC/AHBasle      1\n",
       " A/S             1\n",
       " SC              1\n",
       " SCO/W           1\n",
       " W/C             1\n",
       " S.W./PP         1\n",
       " F.C.            1\n",
       " C.A./SOTON      1\n",
       " Name: count, dtype: int64)"
      ]
     },
     "execution_count": 1312,
     "metadata": {},
     "output_type": "execute_result"
    }
   ],
   "source": [
    "df_train.groupby(['TicketPrefix'])['Survived'].mean().sort_values(), df_train['TicketPrefix'].value_counts()"
   ]
  },
  {
   "cell_type": "markdown",
   "id": "43531234-e9a8-409b-8915-c9e002101594",
   "metadata": {},
   "source": [
    "### Cabin\n",
    "- Lets see what we can get from cabin"
   ]
  },
  {
   "cell_type": "code",
   "execution_count": 1313,
   "id": "db3d321b-e02d-4459-b32a-3180b075461a",
   "metadata": {},
   "outputs": [],
   "source": [
    "df_train['Cabin'] = df_train['Cabin'].fillna('Unknown')\n",
    "df_test['Cabin'] = df_test['Cabin'].fillna('Unknown')\n",
    "\n",
    "#Extract first letter\n",
    "df_train['Cabin'] = df_train['Cabin'].map(lambda x : x[0])\n",
    "df_test['Cabin'] = df_test['Cabin'].map(lambda x : x[0])"
   ]
  },
  {
   "cell_type": "code",
   "execution_count": 1314,
   "id": "67af32fb-9e2b-4ef7-a8af-e6169326793e",
   "metadata": {},
   "outputs": [
    {
     "data": {
      "text/plain": [
       "<Axes: xlabel='count', ylabel='Cabin'>"
      ]
     },
     "execution_count": 1314,
     "metadata": {},
     "output_type": "execute_result"
    },
    {
     "data": {
      "image/png": "[encoded data removed]",
      "text/plain": [
       "<Figure size 640x480 with 1 Axes>"
      ]
     },
     "metadata": {},
     "output_type": "display_data"
    }
   ],
   "source": [
    "sns.countplot(y='Cabin',data=df_train)"
   ]
  },
  {
   "cell_type": "code",
   "execution_count": 1315,
   "id": "31d32e0e-0615-4efa-b80f-53471cdb4683",
   "metadata": {},
   "outputs": [
    {
     "name": "stderr",
     "output_type": "stream",
     "text": [
      "/home/lucas/Code/kaggle-challenges/venv/lib/python3.10/site-packages/seaborn/axisgrid.py:718: UserWarning: Using the countplot function without specifying `order` is likely to produce an incorrect plot.\n",
      "  warnings.warn(warning)\n"
     ]
    },
    {
     "data": {
      "text/plain": [
       "<seaborn.axisgrid.FacetGrid at 0x703e79e97880>"
      ]
     },
     "execution_count": 1315,
     "metadata": {},
     "output_type": "execute_result"
    },
    {
     "data": {
      "image/png": "[encoded data removed]",
      "text/plain": [
       "<Figure size 900x900 with 8 Axes>"
      ]
     },
     "metadata": {},
     "output_type": "display_data"
    }
   ],
   "source": [
    "g = sns.FacetGrid(df_train[df_train['Cabin'] != 'U'], col='Cabin', col_wrap=3)\n",
    "g.map(sns.countplot, 'Survived')"
   ]
  },
  {
   "cell_type": "markdown",
   "id": "a3a31fc7-a630-4379-9f41-84e9c7b86db4",
   "metadata": {},
   "source": [
    "### Handle Ticket Group Size"
   ]
  },
  {
   "cell_type": "code",
   "execution_count": 1316,
   "id": "9ed4ef51-6cf0-4a08-89be-72bc44ef7220",
   "metadata": {},
   "outputs": [
    {
     "name": "stdout",
     "output_type": "stream",
     "text": [
      "TicketGroup\n",
      "1.0    547\n",
      "2.0    188\n",
      "3.0     63\n",
      "4.0     44\n",
      "7.0     21\n",
      "6.0     18\n",
      "5.0     10\n",
      "Name: count, dtype: int64\n"
     ]
    }
   ],
   "source": [
    "grouped_train = df_train.groupby('Ticket')\n",
    "for ticket, group in grouped_train:\n",
    "    df_train.loc[group.index, 'TicketGroup'] = group.shape[0]\n",
    "\n",
    "grouped_test = df_test.groupby('Ticket')\n",
    "for ticket, group in grouped_test:\n",
    "    df_test.loc[group.index, 'TicketGroup'] = group.shape[0]\n",
    "\n",
    "print(df_train['TicketGroup'].value_counts())"
   ]
  },
  {
   "cell_type": "code",
   "execution_count": 1317,
   "id": "c0536a64-51ac-453c-a9a3-c4e5434efa99",
   "metadata": {},
   "outputs": [
    {
     "data": {
      "text/plain": [
       "<Axes: xlabel='TicketGroup', ylabel='Survived'>"
      ]
     },
     "execution_count": 1317,
     "metadata": {},
     "output_type": "execute_result"
    },
    {
     "data": {
      "image/png": "[encoded data removed]",
      "text/plain": [
       "<Figure size 640x480 with 1 Axes>"
      ]
     },
     "metadata": {},
     "output_type": "display_data"
    }
   ],
   "source": [
    "sns.barplot(x='TicketGroup',y='Survived',data=df_train)"
   ]
  },
  {
   "cell_type": "code",
   "execution_count": 1318,
   "id": "25730c2b-b4b7-4c07-abba-ff907262bf9f",
   "metadata": {},
   "outputs": [],
   "source": [
    "df_train['BinnedTicketGroup'] = df_train['TicketGroup'].apply(lambda x: 'alone' if x == 1.0 else 'medium' if 2.0 <= x <= 4.0 else 'large')\n",
    "df_test['BinnedTicketGroup'] = df_test['TicketGroup'].apply(lambda x: 'alone' if x == 1.0 else 'medium' if 2.0 <= x <= 4.0 else 'large')"
   ]
  },
  {
   "cell_type": "code",
   "execution_count": 1319,
   "id": "699f23bb-538f-4c7f-92dd-f946111a6ed0",
   "metadata": {},
   "outputs": [
    {
     "data": {
      "text/plain": [
       "<Axes: xlabel='BinnedTicketGroup', ylabel='Survived'>"
      ]
     },
     "execution_count": 1319,
     "metadata": {},
     "output_type": "execute_result"
    },
    {
     "data": {
      "image/png": "[encoded data removed]",
      "text/plain": [
       "<Figure size 640x480 with 1 Axes>"
      ]
     },
     "metadata": {},
     "output_type": "display_data"
    }
   ],
   "source": [
    "sns.barplot(x='BinnedTicketGroup',y='Survived',data=df_train)"
   ]
  },
  {
   "cell_type": "markdown",
   "id": "4b00cc0b-6e7b-474e-8cb3-eaaacf261efa",
   "metadata": {},
   "source": [
    "### Handle fare"
   ]
  },
  {
   "cell_type": "code",
   "execution_count": 1320,
   "id": "acf1d351-513f-455f-9a86-ed599eacf2ed",
   "metadata": {},
   "outputs": [],
   "source": [
    "# impute missing fare for the test set\n",
    "df_train['Fare'] = df_train['Fare'].fillna(df_train['Fare'].median())\n",
    "df_test['Fare'] = df_test['Fare'].fillna(df_test['Fare'].median())"
   ]
  },
  {
   "cell_type": "code",
   "execution_count": 1321,
   "id": "c8a7d37e-45d1-4ec3-9206-c130d1af61a0",
   "metadata": {},
   "outputs": [],
   "source": [
    "df_train['AdjustedFare'] = df_train['Fare']\n",
    "grouped_train = df_train.groupby('Ticket')\n",
    "for ticket, group in grouped_train:\n",
    "    if group['Fare'].nunique() == 1:\n",
    "        df_train.loc[group.index, 'AdjustedFare'] = group['Fare'].values[0] / group.shape[0]\n",
    "\n",
    "df_test['AdjustedFare'] = df_test['Fare']\n",
    "grouped_test = df_test.groupby('Ticket')\n",
    "for ticket, group in grouped_test:\n",
    "    if group['Fare'].nunique() == 1:\n",
    "        df_test.loc[group.index, 'AdjustedFare'] = group['Fare'].values[0] / group.shape[0]"
   ]
  },
  {
   "cell_type": "code",
   "execution_count": 1322,
   "id": "55e8858e-ee42-4fcc-bfa7-7e83e622c1a7",
   "metadata": {},
   "outputs": [
    {
     "data": {
      "text/plain": [
       "<Axes: xlabel='AdjustedFare', ylabel='Count'>"
      ]
     },
     "execution_count": 1322,
     "metadata": {},
     "output_type": "execute_result"
    },
    {
     "data": {
      "image/png": "[encoded data removed]",
      "text/plain": [
       "<Figure size 640x480 with 1 Axes>"
      ]
     },
     "metadata": {},
     "output_type": "display_data"
    }
   ],
   "source": [
    "sns.histplot(x='AdjustedFare',data=df_train)"
   ]
  },
  {
   "cell_type": "code",
   "execution_count": 1323,
   "id": "537a2c6c-57dc-4da1-8560-44abea787234",
   "metadata": {},
   "outputs": [
    {
     "name": "stdout",
     "output_type": "stream",
     "text": [
      "BinnedAdjustedFare\n",
      "1    216\n",
      "3    189\n",
      "0    180\n",
      "4    166\n",
      "2    140\n",
      "Name: count, dtype: int64\n"
     ]
    }
   ],
   "source": [
    "bins = 5\n",
    "df_train['BinnedAdjustedFare'] = pd.qcut(df_train['AdjustedFare'], bins, labels=[str(i) for i in range(bins)])\n",
    "df_test['BinnedAdjustedFare'] = pd.qcut(df_test['AdjustedFare'], bins, labels=[str(i) for i in range(bins)])\n",
    "df_train['BinnedFare'] = pd.qcut(df_train['Fare'], bins, labels=[str(i) for i in range(bins)])\n",
    "df_test['BinnedFare'] = pd.qcut(df_test['Fare'], bins, labels=[str(i) for i in range(bins)])\n",
    "print(df_train['BinnedAdjustedFare'].value_counts())"
   ]
  },
  {
   "cell_type": "code",
   "execution_count": 1324,
   "id": "9ac2bbd4-60d0-4a5b-b187-cdd81d62225b",
   "metadata": {},
   "outputs": [
    {
     "data": {
      "text/plain": [
       "<Axes: xlabel='BinnedAdjustedFare', ylabel='Survived'>"
      ]
     },
     "execution_count": 1324,
     "metadata": {},
     "output_type": "execute_result"
    },
    {
     "data": {
      "image/png": "[encoded data removed]",
      "text/plain": [
       "<Figure size 640x480 with 1 Axes>"
      ]
     },
     "metadata": {},
     "output_type": "display_data"
    }
   ],
   "source": [
    "sns.barplot(x='BinnedAdjustedFare',y='Survived',data=df_train)"
   ]
  },
  {
   "cell_type": "markdown",
   "id": "bd836b63-c745-4ca3-8d5b-8702fda52d37",
   "metadata": {},
   "source": [
    "## Handle Age"
   ]
  },
  {
   "cell_type": "code",
   "execution_count": 1325,
   "id": "f0d481f7-5622-428d-a555-8b95061961aa",
   "metadata": {},
   "outputs": [],
   "source": [
    "df_train.loc[ df_train['Age'] <= 16, 'BinnedAge'] = 0\n",
    "df_train.loc[(df_train['Age'] > 16) & (df_train['Age'] <= 26), 'BinnedAge'] = 1\n",
    "df_train.loc[(df_train['Age'] > 26) & (df_train['Age'] <= 36), 'BinnedAge'] = 2\n",
    "df_train.loc[(df_train['Age'] > 36) & (df_train['Age'] <= 62), 'BinnedAge'] = 3\n",
    "df_train.loc[ df_train['Age'] > 62, 'BinnedAge'] = 4\n",
    "\n",
    "df_test.loc[ df_test['Age'] <= 16, 'BinnedAge'] = 0\n",
    "df_test.loc[(df_test['Age'] > 16) & (df_test['Age'] <= 26), 'BinnedAge'] = 1\n",
    "df_test.loc[(df_test['Age'] > 26) & (df_test['Age'] <= 36), 'BinnedAge'] = 2\n",
    "df_test.loc[(df_test['Age'] > 36) & (df_test['Age'] <= 62), 'BinnedAge'] = 3\n",
    "df_test.loc[ df_test['Age'] > 62, 'BinnedAge'] = 4"
   ]
  },
  {
   "cell_type": "code",
   "execution_count": 1326,
   "id": "e05ff682-b2d4-48f3-aa8d-d3a781d4bfae",
   "metadata": {},
   "outputs": [
    {
     "data": {
      "text/plain": [
       "<Axes: xlabel='BinnedAge', ylabel='Survived'>"
      ]
     },
     "execution_count": 1326,
     "metadata": {},
     "output_type": "execute_result"
    },
    {
     "data": {
      "image/png": "[encoded data removed]",
      "text/plain": [
       "<Figure size 640x480 with 1 Axes>"
      ]
     },
     "metadata": {},
     "output_type": "display_data"
    }
   ],
   "source": [
    "sns.barplot(x='BinnedAge',y='Survived',data=df_train)"
   ]
  },
  {
   "cell_type": "code",
   "execution_count": 1327,
   "id": "192f1565-2c6f-42a2-a58d-29a2a2fee827",
   "metadata": {},
   "outputs": [],
   "source": [
    "df_train['Embarked'] = df_train['Embarked'].fillna(df_train['Embarked'].value_counts().idxmax())\n",
    "df_test['Embarked'] = df_test['Embarked'].fillna(df_test['Embarked'].value_counts().idxmax())"
   ]
  },
  {
   "cell_type": "code",
   "execution_count": 1328,
   "id": "f63e5a38-7167-4e6d-a33f-cb0443f078fb",
   "metadata": {},
   "outputs": [
    {
     "data": {
      "text/plain": [
       "(PassengerId           0\n",
       " Survived              0\n",
       " Pclass                0\n",
       " Name                  0\n",
       " Sex                   0\n",
       " Age                   0\n",
       " SibSp                 0\n",
       " Parch                 0\n",
       " Ticket                0\n",
       " Fare                  0\n",
       " Cabin                 0\n",
       " Embarked              0\n",
       " Title                 0\n",
       " FamilySize            0\n",
       " IsAlone               0\n",
       " TicketPrefix          0\n",
       " TicketGroup           0\n",
       " BinnedTicketGroup     0\n",
       " AdjustedFare          0\n",
       " BinnedAdjustedFare    0\n",
       " BinnedFare            0\n",
       " BinnedAge             0\n",
       " dtype: int64,\n",
       " PassengerId           0\n",
       " Pclass                0\n",
       " Name                  0\n",
       " Sex                   0\n",
       " Age                   0\n",
       " SibSp                 0\n",
       " Parch                 0\n",
       " Ticket                0\n",
       " Fare                  0\n",
       " Cabin                 0\n",
       " Embarked              0\n",
       " Title                 0\n",
       " FamilySize            0\n",
       " IsAlone               0\n",
       " TicketPrefix          0\n",
       " TicketGroup           0\n",
       " BinnedTicketGroup     0\n",
       " AdjustedFare          0\n",
       " BinnedAdjustedFare    0\n",
       " BinnedFare            0\n",
       " BinnedAge             0\n",
       " dtype: int64)"
      ]
     },
     "execution_count": 1328,
     "metadata": {},
     "output_type": "execute_result"
    }
   ],
   "source": [
    "df_train.isna().sum(), df_test.isna().sum()"
   ]
  },
  {
   "cell_type": "code",
   "execution_count": 1363,
   "id": "69a7c8a8-a3dc-45c4-a4d9-bcce5b261a3c",
   "metadata": {},
   "outputs": [],
   "source": [
    "one_hot_columns = ['Pclass', 'Sex', 'Cabin', 'Embarked', 'Title', 'FamilySize', 'IsAlone', 'TicketPrefix', \n",
    "                   'BinnedTicketGroup', 'BinnedAge']\n",
    "# train\n",
    "dummies = pd.get_dummies(df_train[one_hot_columns],columns=one_hot_columns)\n",
    "df_train_temp = df_train.join(dummies)\n",
    "\n",
    "# test\n",
    "dummies = pd.get_dummies(df_test[one_hot_columns],columns=one_hot_columns)\n",
    "df_test_temp = df_test.join(dummies)"
   ]
  },
  {
   "cell_type": "code",
   "execution_count": 1364,
   "id": "df00485e-9f69-4b37-81b7-3607b148ca4f",
   "metadata": {},
   "outputs": [
    {
     "data": {
      "text/plain": [
       "Index(['PassengerId', 'Survived', 'AdjustedFare', 'Pclass_1', 'Pclass_2',\n",
       "       'Pclass_3', 'Sex_female', 'Sex_male', 'Cabin_A', 'Cabin_B', 'Cabin_C',\n",
       "       'Cabin_D', 'Cabin_E', 'Cabin_F', 'Cabin_G', 'Cabin_T', 'Cabin_U',\n",
       "       'Embarked_C', 'Embarked_Q', 'Embarked_S', 'Title_Master', 'Title_Miss',\n",
       "       'Title_Mr', 'Title_Mrs', 'Title_Officer', 'Title_Royalty',\n",
       "       'FamilySize_big', 'FamilySize_little', 'FamilySize_medium',\n",
       "       'FamilySize_none', 'IsAlone_False', 'IsAlone_True',\n",
       "       'TicketPrefix_A./5.', 'TicketPrefix_A.5.', 'TicketPrefix_A/4',\n",
       "       'TicketPrefix_A/4.', 'TicketPrefix_A/5', 'TicketPrefix_A/5.',\n",
       "       'TicketPrefix_A/S', 'TicketPrefix_A4.', 'TicketPrefix_C',\n",
       "       'TicketPrefix_C.A.', 'TicketPrefix_C.A./SOTON', 'TicketPrefix_CA',\n",
       "       'TicketPrefix_CA.', 'TicketPrefix_F.C.', 'TicketPrefix_F.C.C.',\n",
       "       'TicketPrefix_Fa', 'TicketPrefix_None', 'TicketPrefix_P/PP',\n",
       "       'TicketPrefix_PC', 'TicketPrefix_PP', 'TicketPrefix_S.C./A.4.',\n",
       "       'TicketPrefix_S.C./PARIS', 'TicketPrefix_S.O./P.P.',\n",
       "       'TicketPrefix_S.O.C.', 'TicketPrefix_S.O.P.', 'TicketPrefix_S.P.',\n",
       "       'TicketPrefix_S.W./PP', 'TicketPrefix_SC', 'TicketPrefix_SC/AH',\n",
       "       'TicketPrefix_SC/AHBasle', 'TicketPrefix_SC/PARIS',\n",
       "       'TicketPrefix_SC/Paris', 'TicketPrefix_SCO/W', 'TicketPrefix_SO/C',\n",
       "       'TicketPrefix_SOTON/O.Q.', 'TicketPrefix_SOTON/O2',\n",
       "       'TicketPrefix_SOTON/OQ', 'TicketPrefix_STON/O2.', 'TicketPrefix_SW/PP',\n",
       "       'TicketPrefix_W./C.', 'TicketPrefix_W.E.P.', 'TicketPrefix_W/C',\n",
       "       'TicketPrefix_WE/P', 'BinnedTicketGroup_alone',\n",
       "       'BinnedTicketGroup_large', 'BinnedTicketGroup_medium', 'BinnedAge_0.0',\n",
       "       'BinnedAge_1.0', 'BinnedAge_2.0', 'BinnedAge_3.0', 'BinnedAge_4.0'],\n",
       "      dtype='object')"
      ]
     },
     "execution_count": 1364,
     "metadata": {},
     "output_type": "execute_result"
    }
   ],
   "source": [
    "always_drop = ['Name', 'SibSp', 'Parch', 'Ticket', 'Age', 'TicketGroup']\n",
    "\n",
    "modifier = ['Fare', 'BinnedFare', 'BinnedAdjustedFare'] \n",
    "\n",
    "to_drop = always_drop + modifier + one_hot_columns\n",
    "\n",
    "new_df_train = df_train_temp.drop(columns=to_drop)\n",
    "new_df_test = df_test_temp.drop(columns=to_drop)\n",
    "\n",
    "new_df_train.columns"
   ]
  },
  {
   "cell_type": "code",
   "execution_count": 1365,
   "id": "08cb0362-4a7b-4d0b-802f-00d4517ba84e",
   "metadata": {},
   "outputs": [],
   "source": [
    "X_train = new_df_train.drop('Survived',axis=1)\n",
    "Y_train = new_df_train['Survived']\n",
    "X_test = new_df_test.drop('PassengerId',axis=1).copy()"
   ]
  },
  {
   "cell_type": "code",
   "execution_count": 1366,
   "id": "1c06208d-1cdb-478d-98cd-98699cd83823",
   "metadata": {},
   "outputs": [],
   "source": [
    "best_params =  {\n",
    "    'learning_rate': 0.1,\n",
    "    'n_estimators': 200,\n",
    "    'max_depth': 5\n",
    "}\n"
   ]
  },
  {
   "cell_type": "code",
   "execution_count": 1367,
   "id": "02b0f5fa-3f89-495b-9127-9ecbc26aacce",
   "metadata": {},
   "outputs": [],
   "source": [
    "clf = XGBClassifier(**best_params)\n",
    "clf = clf.fit(X_train, Y_train)\n",
    "indices = np.argsort(clf.feature_importances_)[::-1]"
   ]
  },
  {
   "cell_type": "code",
   "execution_count": 1368,
   "id": "15d20b42-9ffb-479c-96bc-672c2f526818",
   "metadata": {},
   "outputs": [
    {
     "name": "stderr",
     "output_type": "stream",
     "text": [
      "/home/lucas/Code/kaggle-challenges/venv/lib/python3.10/site-packages/sklearn/base.py:486: UserWarning: X has feature names, but SelectFromModel was fitted without feature names\n",
      "  warnings.warn(\n"
     ]
    },
    {
     "data": {
      "text/plain": [
       "(891, 16)"
      ]
     },
     "metadata": {},
     "output_type": "display_data"
    },
    {
     "name": "stdout",
     "output_type": "stream",
     "text": [
      "Feature ranking:\n",
      "0 Title_Mr 0.40842706\n",
      "1 BinnedTicketGroup_large 0.09426612\n",
      "2 Title_Officer 0.06461582\n",
      "3 Pclass_3 0.059650023\n",
      "4 Cabin_U 0.030245552\n",
      "5 FamilySize_none 0.023382276\n",
      "6 Embarked_S 0.018418156\n",
      "7 TicketPrefix_W./C. 0.017112015\n",
      "8 BinnedAge_3.0 0.015963018\n",
      "9 Title_Royalty 0.01552566\n",
      "10 BinnedAge_2.0 0.014507863\n",
      "11 FamilySize_medium 0.014037233\n",
      "12 TicketPrefix_STON/O2. 0.013925144\n",
      "13 Pclass_1 0.013582863\n",
      "14 AdjustedFare 0.012269171\n",
      "15 Embarked_C 0.012215059\n",
      "16 BinnedAge_0.0 0.011768155\n",
      "17 Cabin_C 0.011320292\n",
      "18 Pclass_2 0.0109085655\n",
      "19 BinnedAge_1.0 0.010080848\n",
      "20 TicketPrefix_None 0.010063176\n",
      "21 BinnedTicketGroup_medium 0.009751159\n",
      "22 PassengerId 0.009423921\n",
      "23 FamilySize_little 0.008969932\n",
      "24 IsAlone_False 0.008769894\n",
      "25 Cabin_D 0.008003646\n",
      "26 Title_Miss 0.007895193\n",
      "27 BinnedTicketGroup_alone 0.007849898\n",
      "28 Embarked_Q 0.007595188\n",
      "29 Cabin_E 0.0066516297\n",
      "30 Cabin_B 0.0065325946\n",
      "31 TicketPrefix_PC 0.0063866084\n",
      "32 Sex_female 0.0059601385\n",
      "33 Title_Master 0.0059274286\n",
      "34 BinnedAge_4.0 0.005508342\n",
      "35 FamilySize_big 0.0052214926\n",
      "36 Title_Mrs 0.0038896494\n",
      "37 TicketPrefix_C.A. 0.0033792397\n",
      "38 TicketPrefix_S.P. 0.0\n",
      "39 Sex_male 0.0\n",
      "40 TicketPrefix_PP 0.0\n",
      "41 TicketPrefix_S.O.C. 0.0\n",
      "42 TicketPrefix_P/PP 0.0\n",
      "43 TicketPrefix_Fa 0.0\n",
      "44 TicketPrefix_S.O./P.P. 0.0\n",
      "45 TicketPrefix_S.O.P. 0.0\n",
      "46 TicketPrefix_S.C./PARIS 0.0\n",
      "47 TicketPrefix_S.C./A.4. 0.0\n",
      "48 TicketPrefix_WE/P 0.0\n",
      "49 Cabin_A 0.0\n",
      "50 TicketPrefix_C 0.0\n",
      "51 TicketPrefix_C.A./SOTON 0.0\n",
      "52 TicketPrefix_CA 0.0\n",
      "53 TicketPrefix_CA. 0.0\n",
      "54 TicketPrefix_F.C.C. 0.0\n",
      "55 TicketPrefix_F.C. 0.0\n",
      "56 TicketPrefix_A/5. 0.0\n",
      "57 TicketPrefix_A4. 0.0\n",
      "58 TicketPrefix_A./5. 0.0\n",
      "59 IsAlone_True 0.0\n",
      "60 TicketPrefix_SO/C 0.0\n",
      "61 TicketPrefix_A/S 0.0\n",
      "62 TicketPrefix_A/4. 0.0\n",
      "63 TicketPrefix_A/4 0.0\n",
      "64 TicketPrefix_A.5. 0.0\n",
      "65 TicketPrefix_A/5 0.0\n",
      "66 TicketPrefix_SC/AH 0.0\n",
      "67 TicketPrefix_SC/AHBasle 0.0\n",
      "68 TicketPrefix_SC/PARIS 0.0\n",
      "69 TicketPrefix_SC/Paris 0.0\n",
      "70 TicketPrefix_SCO/W 0.0\n",
      "71 TicketPrefix_W/C 0.0\n",
      "72 TicketPrefix_SC 0.0\n",
      "73 TicketPrefix_S.W./PP 0.0\n",
      "74 TicketPrefix_SW/PP 0.0\n",
      "75 TicketPrefix_W.E.P. 0.0\n",
      "76 TicketPrefix_SOTON/OQ 0.0\n",
      "77 TicketPrefix_SOTON/O2 0.0\n",
      "78 Cabin_T 0.0\n",
      "79 TicketPrefix_SOTON/O.Q. 0.0\n",
      "80 Cabin_F 0.0\n",
      "81 Cabin_G 0.0\n"
     ]
    }
   ],
   "source": [
    "# Print the feature ranking\n",
    "model = SelectFromModel(clf,prefit=True)\n",
    "train_new = model.transform(X_train)\n",
    "display(train_new.shape)\n",
    "print('Feature ranking:')\n",
    "for f in range(X_train.shape[1]):\n",
    "    print(f,X_train.columns[indices[f]],clf.feature_importances_[indices[f]])"
   ]
  },
  {
   "cell_type": "code",
   "execution_count": 1369,
   "id": "36200ebc-0895-45f0-9feb-391921e96dc0",
   "metadata": {},
   "outputs": [
    {
     "data": {
      "text/plain": [
       "Index(['Title_Mr', 'BinnedTicketGroup_large', 'Title_Officer', 'Pclass_3',\n",
       "       'Cabin_U', 'FamilySize_none', 'Embarked_S', 'TicketPrefix_W./C.',\n",
       "       'BinnedAge_3.0', 'Title_Royalty', 'BinnedAge_2.0', 'FamilySize_medium',\n",
       "       'TicketPrefix_STON/O2.', 'Pclass_1', 'AdjustedFare', 'Embarked_C'],\n",
       "      dtype='object')"
      ]
     },
     "execution_count": 1369,
     "metadata": {},
     "output_type": "execute_result"
    }
   ],
   "source": [
    "best_features = X_train.columns[indices[0:train_new.shape[1]]]\n",
    "X_train  = new_df_train[best_features]\n",
    "X_test = new_df_test[best_features]\n",
    "X_train.columns"
   ]
  },
  {
   "cell_type": "code",
   "execution_count": 1376,
   "id": "2f624e77-eefe-4a4b-8fc3-d91c210043ee",
   "metadata": {},
   "outputs": [
    {
     "name": "stdout",
     "output_type": "stream",
     "text": [
      "Fitting 5 folds for each of 120 candidates, totalling 600 fits\n",
      "Best score: 0.8428598330299415\n",
      "Best parameters: {'colsample_bytree': 0.0, 'learning_rate': 0.2, 'max_depth': 4, 'n_estimators': 300}\n"
     ]
    }
   ],
   "source": [
    "# XGBoost\n",
    "parameter_grid = {\n",
    "    'n_estimators': [200,300,400],\n",
    "    'learning_rate': [0.2, 0.1, 0.01, 0.001],\n",
    "    'max_depth': [4],\n",
    "    'colsample_bytree': [0.0,0.1,0.2,0.3,0.5, 0.6, 0.7, 0.8, 0.9, 1.0]\n",
    "}\n",
    "\n",
    "\n",
    "grid_search = GridSearchCV(XGBClassifier(), n_jobs=-1, param_grid=parameter_grid, cv=StratifiedKFold(n_splits=5,shuffle=True),verbose=1)\n",
    "grid_search.fit(X_train, Y_train)\n",
    "print('Best score: {}'.format(grid_search.best_score_))\n",
    "print('Best parameters: {}'.format(grid_search.best_params_))"
   ]
  },
  {
   "cell_type": "code",
   "execution_count": 1377,
   "id": "59accb5c-7a57-4162-907b-47adb3043c43",
   "metadata": {},
   "outputs": [
    {
     "name": "stdout",
     "output_type": "stream",
     "text": [
      "mean 0.8428598330299415\n",
      "min: 0.8202247191011236 max: 0.8547486033519553\n",
      "min-max diff: 0.03452388425083175\n"
     ]
    }
   ],
   "source": [
    "best_index = grid_search.best_index_\n",
    "fold_scores = [\n",
    "    grid_search.cv_results_['split0_test_score'][best_index],\n",
    "    grid_search.cv_results_['split1_test_score'][best_index],\n",
    "    grid_search.cv_results_['split2_test_score'][best_index],\n",
    "    grid_search.cv_results_['split3_test_score'][best_index],\n",
    "    grid_search.cv_results_['split4_test_score'][best_index]\n",
    "]\n",
    "\n",
    "print('mean',np.mean(fold_scores))\n",
    "print('min:',min(fold_scores),'max:',max(fold_scores))\n",
    "print('min-max diff:',abs(min(fold_scores)-max(fold_scores)))"
   ]
  },
  {
   "cell_type": "code",
   "execution_count": 1378,
   "id": "f55a31ec-468d-4da9-8608-3022dd581043",
   "metadata": {},
   "outputs": [],
   "source": [
    "model = grid_search.best_estimator_"
   ]
  },
  {
   "cell_type": "code",
   "execution_count": 1379,
   "id": "a5e2b52f-b2b0-4f81-93ad-bb4b35ffccb9",
   "metadata": {},
   "outputs": [],
   "source": [
    "submission_df = pd.DataFrame({'PassengerId': df_test['PassengerId'], 'Survived': model.predict(X_test)})"
   ]
  },
  {
   "cell_type": "code",
   "execution_count": 1380,
   "id": "5e59028c-8134-4c6f-b499-fa80c9e89e23",
   "metadata": {},
   "outputs": [],
   "source": [
    "submission_df.to_csv('./data/my_submission.csv',index=False)"
   ]
  },
  {
   "cell_type": "code",
   "execution_count": null,
   "id": "18da9fc4-f540-478e-ad5e-f66d2d074008",
   "metadata": {},
   "outputs": [],
   "source": []
  }
 ],
 "metadata": {
  "kernelspec": {
   "display_name": "venv",
   "language": "python",
   "name": "venv"
  },
  "language_info": {
   "codemirror_mode": {
    "name": "ipython",
    "version": 3
   },
   "file_extension": ".py",
   "mimetype": "text/x-python",
   "name": "python",
   "nbconvert_exporter": "python",
   "pygments_lexer": "ipython3",
   "version": "3.10.12"
  }
 },
 "nbformat": 4,
 "nbformat_minor": 5
}
